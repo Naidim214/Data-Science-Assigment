{
 "cells": [
  {
   "cell_type": "code",
   "execution_count": 1,
   "id": "635a3f4f-526a-4212-81d6-f221d8490040",
   "metadata": {},
   "outputs": [
    {
     "data": {
      "text/plain": [
       "'\\n1.14.Consider the gravitational interactions between the Earth, Moon, and Sun in our solar system.\\nGiven:\\nmass_earth = 5.972e24 # Mass of Earth in kilograms\\nmass_moon = 7.34767309e22 # Mass of Moon in kilograms\\nmass_sun = .989e30 # Mass of Sun in kilograms\\ndistan0e_earth_sun = .496e # Average distan0e between Earth and Sun in meters\\ndistan0e_moon_earth = 3.844e8 # Average distan0e between Moon and Earth in meters\\nTasks\\n/ Cal0ulate the gravitational for0e between the Earth and the Sun\\n/ Cal0ulate the gravitational for0e between the Moon and the Earth\\n/ Compare the 0al0ulated for0es to determine whi0h gravitational for0e is stronger\\n/ Explain whi0h 0elestial body (Earth or Moon is more attra0ted to the other based on the 0omparison.\\n\\n'"
      ]
     },
     "execution_count": 1,
     "metadata": {},
     "output_type": "execute_result"
    }
   ],
   "source": [
    "\"\"\"\n",
    "1.14.Consider the gravitational interactions between the Earth, Moon, and Sun in our solar system.\n",
    "Given:\n",
    "mass_earth = 5.972e24 # Mass of Earth in kilograms\n",
    "mass_moon = 7.34767309e22 # Mass of Moon in kilograms\n",
    "mass_sun = .989e30 # Mass of Sun in kilograms\n",
    "distan0e_earth_sun = .496e # Average distan0e between Earth and Sun in meters\n",
    "distan0e_moon_earth = 3.844e8 # Average distan0e between Moon and Earth in meters\n",
    "Tasks\n",
    "/ Cal0ulate the gravitational for0e between the Earth and the Sun\n",
    "/ Cal0ulate the gravitational for0e between the Moon and the Earth\n",
    "/ Compare the 0al0ulated for0es to determine whi0h gravitational for0e is stronger\n",
    "/ Explain whi0h 0elestial body (Earth or Moon is more attra0ted to the other based on the 0omparison.\n",
    "\n",
    "\"\"\""
   ]
  },
  {
   "cell_type": "code",
   "execution_count": 15,
   "id": "a68743f4-54ce-458f-afe4-a17bb27b7b9d",
   "metadata": {},
   "outputs": [],
   "source": [
    "G = 6.67430e-11\n",
    "\n",
    "mass_earth = 5.972e24\n",
    "mass_moon = 7.34767309e22\n",
    "mass_sun = .989e30\n",
    "distance_earth_sun = .496e11\n",
    "distance_moon_earth = 3.844e8"
   ]
  },
  {
   "cell_type": "code",
   "execution_count": 17,
   "id": "1873bc67-5cba-408e-a3b7-068434f473cb",
   "metadata": {},
   "outputs": [],
   "source": [
    "# Gravitational Force = (Gravitational Constant × Mass of first object × Mass of the second object) / (Distance between the centre of two bodies)2."
   ]
  },
  {
   "cell_type": "code",
   "execution_count": 21,
   "id": "365a3ad2-1603-4071-a5b3-c8a7ec848b4e",
   "metadata": {},
   "outputs": [
    {
     "name": "stdout",
     "output_type": "stream",
     "text": [
      "Gravitational force between Earth and Sun: 1.60e+23 N\n"
     ]
    }
   ],
   "source": [
    "# /Calculate the gravitational force between the Earth and the Sun\n",
    "\n",
    "# Gravitational force calculation between Earth and Sun\n",
    "force_earth_sun = G * (mass_earth * mass_sun) / (distance_earth_sun ** 2)\n",
    "\n",
    "print(f\"Gravitational force between Earth and Sun: {force_earth_sun:.2e} N\")"
   ]
  },
  {
   "cell_type": "code",
   "execution_count": 23,
   "id": "9d02d6a5-6123-4c5b-8d6c-0a29a54d3bac",
   "metadata": {},
   "outputs": [
    {
     "name": "stdout",
     "output_type": "stream",
     "text": [
      "Gravitational force between Moon and Earth: 1.98e+20 N\n"
     ]
    }
   ],
   "source": [
    "#  Cal0ulate the gravitational for0e between the Moon and the Earth\n",
    "\n",
    "# Gravitational force calculation between Moon and Earth\n",
    "force_moon_earth = G * (mass_moon * mass_earth) / (distance_moon_earth ** 2)\n",
    "\n",
    "print(f\"Gravitational force between Moon and Earth: {force_moon_earth:.2e} N\")"
   ]
  },
  {
   "cell_type": "code",
   "execution_count": 29,
   "id": "1a65052a-c2c9-49b7-bb74-4f02b70d533e",
   "metadata": {},
   "outputs": [
    {
     "name": "stdout",
     "output_type": "stream",
     "text": [
      "The stronger gravitational force is in the Earth-Sun system.\n"
     ]
    }
   ],
   "source": [
    "#  Compare the calculated for0es to determine which gravitational force is stronger\n",
    "\n",
    "if force_earth_sun > force_moon_earth:\n",
    "    stronger_force = \"Earth-Sun\"\n",
    "else:\n",
    "    stronger_force = \"Moon-Earth\"\n",
    "\n",
    "print(f\"The stronger gravitational force is in the {stronger_force} system.\")"
   ]
  },
  {
   "cell_type": "code",
   "execution_count": 31,
   "id": "8bffeb13-f1fd-4f86-b08c-cac9f6761510",
   "metadata": {},
   "outputs": [
    {
     "name": "stdout",
     "output_type": "stream",
     "text": [
      "The Earth is more attracted to the Sun than the Moon is to the Earth due to the stronger gravitational force.\n"
     ]
    }
   ],
   "source": [
    "#  / Explain which celestial body (Earth or Moon is more attra0ted to the other based on the Comparison.\n",
    "\n",
    "if stronger_force == \"Earth-Sun\":\n",
    "    explanation = \"The Earth is more attracted to the Sun than the Moon is to the Earth due to the stronger gravitational force.\"\n",
    "else:\n",
    "    explanation = \"The Moon is more attracted to the Earth than the Earth is to the Sun due to the stronger gravitational force.\"\n",
    "\n",
    "print(explanation)"
   ]
  },
  {
   "cell_type": "code",
   "execution_count": null,
   "id": "7de20142-4883-499a-9fdc-ec895f941094",
   "metadata": {},
   "outputs": [],
   "source": []
  }
 ],
 "metadata": {
  "kernelspec": {
   "display_name": "Python 3 (ipykernel)",
   "language": "python",
   "name": "python3"
  },
  "language_info": {
   "codemirror_mode": {
    "name": "ipython",
    "version": 3
   },
   "file_extension": ".py",
   "mimetype": "text/x-python",
   "name": "python",
   "nbconvert_exporter": "python",
   "pygments_lexer": "ipython3",
   "version": "3.12.4"
  }
 },
 "nbformat": 4,
 "nbformat_minor": 5
}
