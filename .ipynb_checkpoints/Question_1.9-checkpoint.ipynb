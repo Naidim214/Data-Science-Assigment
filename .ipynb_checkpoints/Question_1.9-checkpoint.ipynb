{
 "cells": [
  {
   "cell_type": "code",
   "execution_count": 1,
   "id": "c9994555-c5dc-4b57-8a66-5a62b9fc563c",
   "metadata": {},
   "outputs": [
    {
     "data": {
      "text/plain": [
       "'\\n1.9. Write a program to find the factors of a whole number using a while loop.\\n'"
      ]
     },
     "execution_count": 1,
     "metadata": {},
     "output_type": "execute_result"
    }
   ],
   "source": [
    "\"\"\"\n",
    "1.9. Write a program to find the factors of a whole number using a while loop.\n",
    "\"\"\"\n",
    "\n"
   ]
  },
  {
   "cell_type": "code",
   "execution_count": 38,
   "id": "559e91be-142e-4f16-a9f7-0e162980a7bb",
   "metadata": {},
   "outputs": [
    {
     "name": "stdin",
     "output_type": "stream",
     "text": [
      "Enter a number  8\n"
     ]
    },
    {
     "name": "stdout",
     "output_type": "stream",
     "text": [
      "factors of 8 are :\n",
      "1,2,4,8,"
     ]
    }
   ],
   "source": [
    "\n",
    "num=int(input(\"Enter a number \"))\n",
    "i=1\n",
    "print(f\"factors of {num} are :\")\n",
    "while(i<=num):\n",
    "    if num%i==0:\n",
    "        print(i,end=\",\")\n",
    "    i+=1\n",
    "\n",
    "\n",
    "\n",
    "            "
   ]
  },
  {
   "cell_type": "code",
   "execution_count": null,
   "id": "addda7f4-e53c-4799-869c-28724a61c6e8",
   "metadata": {},
   "outputs": [],
   "source": []
  },
  {
   "cell_type": "code",
   "execution_count": null,
   "id": "c0be2fa2-7bb9-40aa-b95c-83f90e7fe98b",
   "metadata": {},
   "outputs": [],
   "source": []
  }
 ],
 "metadata": {
  "kernelspec": {
   "display_name": "Python 3 (ipykernel)",
   "language": "python",
   "name": "python3"
  },
  "language_info": {
   "codemirror_mode": {
    "name": "ipython",
    "version": 3
   },
   "file_extension": ".py",
   "mimetype": "text/x-python",
   "name": "python",
   "nbconvert_exporter": "python",
   "pygments_lexer": "ipython3",
   "version": "3.12.4"
  }
 },
 "nbformat": 4,
 "nbformat_minor": 5
}
