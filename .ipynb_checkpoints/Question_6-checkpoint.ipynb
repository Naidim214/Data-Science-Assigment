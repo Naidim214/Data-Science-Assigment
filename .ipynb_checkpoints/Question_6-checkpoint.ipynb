{
 "cells": [
  {
   "cell_type": "code",
   "execution_count": 1,
   "id": "a55677d2-9a99-477e-bc50-33e707528f85",
   "metadata": {},
   "outputs": [
    {
     "data": {
      "text/plain": [
       "\"\\n6.Write a code for Restaurant Management System Using OOPS:\\n Create a MenuItem class that has attributes such as name, description, price, and category\\n Implement methods to add a new menu item, update menu item information, and remove a menu item\\nfrom the menu\\n Use encapsulation to hide the menu item's unique identification number\\n Inherit from the MenuItem class to create a FoodItem class and a BeverageItem class, each with their own\\nspecific attributes and methods.\\n\""
      ]
     },
     "execution_count": 1,
     "metadata": {},
     "output_type": "execute_result"
    }
   ],
   "source": [
    "\"\"\"\n",
    "6.Write a code for Restaurant Management System Using OOPS:\n",
    " Create a MenuItem class that has attributes such as name, description, price, and category\n",
    " Implement methods to add a new menu item, update menu item information, and remove a menu item\n",
    "from the menu\n",
    " Use encapsulation to hide the menu item's unique identification number\n",
    " Inherit from the MenuItem class to create a FoodItem class and a BeverageItem class, each with their own\n",
    "specific attributes and methods.\n",
    "\"\"\""
   ]
  },
  {
   "cell_type": "code",
   "execution_count": 2,
   "id": "4e79565a-970e-48a1-a984-b43da00bceea",
   "metadata": {},
   "outputs": [],
   "source": [
    "#  Create a MenuItem class that has attributes such as name, description, price, and category\n",
    "\n",
    "class MenuItem:\n",
    "    _id_counter = 0\n",
    "\n",
    "    def __init__(self, name, description, price, category):\n",
    "        self.__id = MenuItem._id_counter\n",
    "        MenuItem._id_counter += 1\n",
    "        self.name = name\n",
    "        self.description = description\n",
    "        self.price = price\n",
    "        self.category = category\n",
    "\n",
    "    @property\n",
    "    def id(self):\n",
    "        return self.__id\n",
    "\n",
    "    def update_info(self, name=None, description=None, price=None, category=None):\n",
    "        if name:\n",
    "            self.name = name\n",
    "        if description:\n",
    "            self.description = description\n",
    "        if price:\n",
    "            self.price = price\n",
    "        if category:\n",
    "            self.category = category\n",
    "\n",
    "    def __str__(self):\n",
    "        return f\"ID: {self.__id}, Name: {self.name}, Description: {self.description}, Price: {self.price}, Category: {self.category}\""
   ]
  },
  {
   "cell_type": "code",
   "execution_count": 3,
   "id": "b56412b0-e1f0-4d66-9b95-4536b78bd47e",
   "metadata": {},
   "outputs": [],
   "source": [
    "# Food Item class\n",
    "\n",
    "\n",
    "\n",
    "class FoodItem(MenuItem):\n",
    "    def __init__(self, name, description, price, category, is_vegetarian):\n",
    "        super().__init__(name, description, price, category)\n",
    "        self.is_vegetarian = is_vegetarian\n",
    "\n",
    "    def __str__(self):\n",
    "        return f\"{super().__str__()}, Vegetarian: {self.is_vegetarian}\"\n"
   ]
  },
  {
   "cell_type": "code",
   "execution_count": 4,
   "id": "6309d890-7d6e-42f0-8276-6ec1c60ba561",
   "metadata": {},
   "outputs": [],
   "source": [
    "# Beverage Item class\n",
    "\n",
    "class BeverageItem(MenuItem):\n",
    "    def __init__(self, name, description, price, category, is_alcoholic):\n",
    "        super().__init__(name, description, price, category)\n",
    "        self.is_alcoholic = is_alcoholic\n",
    "\n",
    "    def __str__(self):\n",
    "        return f\"{super().__str__()}, Alcoholic: {self.is_alcoholic}\"\n",
    "\n",
    "\n"
   ]
  },
  {
   "cell_type": "code",
   "execution_count": 5,
   "id": "090cc60c-ad5d-4dd4-908f-d8c060ae05ea",
   "metadata": {},
   "outputs": [],
   "source": [
    "#menu class\n",
    "class Menu:\n",
    "    def __init__(self):\n",
    "        self.items = []\n",
    "\n",
    "    def add_item(self, item):\n",
    "        self.items.append(item)\n",
    "\n",
    "    def remove_item(self, item_id):\n",
    "        self.items = [item for item in self.items if item.id != item_id]\n",
    "\n",
    "    def update_item(self, item_id, name=None, description=None, price=None, category=None):\n",
    "        for item in self.items:\n",
    "            if item.id == item_id:\n",
    "                item.update_info(name, description, price, category)\n",
    "                break\n",
    "\n",
    "    def __str__(self):\n",
    "        return \"\\n\".join(str(item) for item in self.items)"
   ]
  },
  {
   "cell_type": "code",
   "execution_count": 6,
   "id": "5e68f6a5-d0dd-466d-bb40-b49e7258b606",
   "metadata": {},
   "outputs": [
    {
     "name": "stdout",
     "output_type": "stream",
     "text": [
      "Menu:\n",
      "ID: 0, Name: Pizza, Description: Cheese Pizza, Price: 9.99, Category: Main Course, Vegetarian: True\n",
      "ID: 1, Name: Burger, Description: Beef Burger, Price: 8.99, Category: Main Course, Vegetarian: False\n",
      "ID: 2, Name: Coke, Description: Coca Cola, Price: 1.99, Category: Drink, Alcoholic: False\n",
      "ID: 3, Name: Wine, Description: Red Wine, Price: 14.99, Category: Drink, Alcoholic: True\n",
      "\n",
      "Updated Menu:\n",
      "ID: 0, Name: Pizza, Description: Cheese Pizza, Price: 10.99, Category: Main Course, Vegetarian: True\n",
      "ID: 1, Name: Burger, Description: Beef Burger, Price: 8.99, Category: Main Course, Vegetarian: False\n",
      "ID: 2, Name: Coke, Description: Coca Cola, Price: 1.99, Category: Drink, Alcoholic: False\n",
      "ID: 3, Name: Wine, Description: Red Wine, Price: 14.99, Category: Drink, Alcoholic: True\n",
      "\n",
      "Menu after removing burger:\n",
      "ID: 0, Name: Pizza, Description: Cheese Pizza, Price: 10.99, Category: Main Course, Vegetarian: True\n",
      "ID: 2, Name: Coke, Description: Coca Cola, Price: 1.99, Category: Drink, Alcoholic: False\n",
      "ID: 3, Name: Wine, Description: Red Wine, Price: 14.99, Category: Drink, Alcoholic: True\n"
     ]
    }
   ],
   "source": [
    "\n",
    "# Testing the system\n",
    "if __name__ == \"__main__\":\n",
    "    menu = Menu()\n",
    "\n",
    "    # Adding items to the menu\n",
    "    pizza = FoodItem(\"Pizza\", \"Cheese Pizza\", 9.99, \"Main Course\", is_vegetarian=True)\n",
    "    burger = FoodItem(\"Burger\", \"Beef Burger\", 8.99, \"Main Course\", is_vegetarian=False)\n",
    "    coke = BeverageItem(\"Coke\", \"Coca Cola\", 1.99, \"Drink\", is_alcoholic=False)\n",
    "    wine = BeverageItem(\"Wine\", \"Red Wine\", 14.99, \"Drink\", is_alcoholic=True)\n",
    "\n",
    "    menu.add_item(pizza)\n",
    "    menu.add_item(burger)\n",
    "    menu.add_item(coke)\n",
    "    menu.add_item(wine)\n",
    "\n",
    "    print(\"Menu:\")\n",
    "    print(menu)\n",
    "\n",
    "    # Updating an item\n",
    "    menu.update_item(pizza.id, price=10.99)\n",
    "    print(\"\\nUpdated Menu:\")\n",
    "    print(menu)\n",
    "\n",
    "    # Removing an item\n",
    "    menu.remove_item(burger.id)\n",
    "    print(\"\\nMenu after removing burger:\")\n",
    "    print(menu)\n"
   ]
  },
  {
   "cell_type": "code",
   "execution_count": 7,
   "id": "97f0f189-d4aa-485a-8de1-4b6335ba0901",
   "metadata": {},
   "outputs": [
    {
     "name": "stdout",
     "output_type": "stream",
     "text": [
      "Menu:\n",
      "ID: 4, Name: Pizza, Description: Cheese Pizza, Price: 9.99, Category: Main Course, Vegetarian: True\n",
      "ID: 5, Name: Burger, Description: Beef Burger, Price: 8.99, Category: Main Course, Vegetarian: False\n",
      "ID: 6, Name: Coke, Description: Coca Cola, Price: 1.99, Category: Drink, Alcoholic: False\n",
      "ID: 7, Name: Wine, Description: Red Wine, Price: 14.99, Category: Drink, Alcoholic: True\n",
      "\n",
      "Updated Menu:\n",
      "ID: 4, Name: Pizza, Description: Cheese Pizza, Price: 10.99, Category: Main Course, Vegetarian: True\n",
      "ID: 5, Name: Burger, Description: Beef Burger, Price: 8.99, Category: Main Course, Vegetarian: False\n",
      "ID: 6, Name: Coke, Description: Coca Cola, Price: 1.99, Category: Drink, Alcoholic: False\n",
      "ID: 7, Name: Wine, Description: Red Wine, Price: 14.99, Category: Drink, Alcoholic: True\n",
      "\n",
      "Menu after removing burger:\n",
      "ID: 4, Name: Pizza, Description: Cheese Pizza, Price: 10.99, Category: Main Course, Vegetarian: True\n",
      "ID: 6, Name: Coke, Description: Coca Cola, Price: 1.99, Category: Drink, Alcoholic: False\n",
      "ID: 7, Name: Wine, Description: Red Wine, Price: 14.99, Category: Drink, Alcoholic: True\n"
     ]
    }
   ],
   "source": [
    "\n",
    "\n",
    "\n",
    "\n",
    "\n",
    "\n",
    "\n",
    "# Testing the system\n",
    "if __name__ == \"__main__\":\n",
    "    menu = Menu()\n",
    "\n",
    "    # Adding items to the menu\n",
    "    pizza = FoodItem(\"Pizza\", \"Cheese Pizza\", 9.99, \"Main Course\", is_vegetarian=True)\n",
    "    burger = FoodItem(\"Burger\", \"Beef Burger\", 8.99, \"Main Course\", is_vegetarian=False)\n",
    "    coke = BeverageItem(\"Coke\", \"Coca Cola\", 1.99, \"Drink\", is_alcoholic=False)\n",
    "    wine = BeverageItem(\"Wine\", \"Red Wine\", 14.99, \"Drink\", is_alcoholic=True)\n",
    "\n",
    "    menu.add_item(pizza)\n",
    "    menu.add_item(burger)\n",
    "    menu.add_item(coke)\n",
    "    menu.add_item(wine)\n",
    "\n",
    "    print(\"Menu:\")\n",
    "    print(menu)\n",
    "\n",
    "    # Updating an item\n",
    "    menu.update_item(pizza.id, price=10.99)\n",
    "    print(\"\\nUpdated Menu:\")\n",
    "    print(menu)\n",
    "\n",
    "    # Removing an item\n",
    "    menu.remove_item(burger.id)\n",
    "    print(\"\\nMenu after removing burger:\")\n",
    "    print(menu)\n"
   ]
  },
  {
   "cell_type": "code",
   "execution_count": null,
   "id": "410e9bd0-f73d-4a42-97d4-d6372dfa4fd2",
   "metadata": {},
   "outputs": [],
   "source": []
  }
 ],
 "metadata": {
  "kernelspec": {
   "display_name": "Python 3 (ipykernel)",
   "language": "python",
   "name": "python3"
  },
  "language_info": {
   "codemirror_mode": {
    "name": "ipython",
    "version": 3
   },
   "file_extension": ".py",
   "mimetype": "text/x-python",
   "name": "python",
   "nbconvert_exporter": "python",
   "pygments_lexer": "ipython3",
   "version": "3.12.4"
  }
 },
 "nbformat": 4,
 "nbformat_minor": 5
}
