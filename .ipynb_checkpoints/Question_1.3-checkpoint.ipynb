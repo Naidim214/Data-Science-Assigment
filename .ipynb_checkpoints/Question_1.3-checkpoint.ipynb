{
 "cells": [
  {
   "cell_type": "code",
   "execution_count": 18,
   "id": "c9656200-c95c-48b9-8ba4-f37566aed10f",
   "metadata": {},
   "outputs": [],
   "source": [
    "# Question 1.3.\n",
    "# name = [\"Mohan\", \"dash\", \"karam\", \"chandra\",\"gandhi\",\"Bapu\"]\n",
    "# do the following operations in this list;"
   ]
  },
  {
   "cell_type": "code",
   "execution_count": 19,
   "id": "2ddf5bad-81ff-48e5-898d-fc001f50d1f9",
   "metadata": {},
   "outputs": [],
   "source": [
    "name = [\"Mohan\", \"dash\", \"karam\", \"chandra\",\"gandhi\",\"Bapu\"]"
   ]
  },
  {
   "cell_type": "code",
   "execution_count": 20,
   "id": "ddeaa0fb-7cc0-406d-a401-31b8ed3cc668",
   "metadata": {},
   "outputs": [],
   "source": [
    "# a) add an element \"freedom_fighter\" in this list at the 0th index."
   ]
  },
  {
   "cell_type": "code",
   "execution_count": 21,
   "id": "f6e4cc9f-d434-44dc-ab60-bab568a445a5",
   "metadata": {},
   "outputs": [],
   "source": [
    "name.append(\"freedom_fighter\")"
   ]
  },
  {
   "cell_type": "code",
   "execution_count": 22,
   "id": "2705491b-a463-4937-b002-b6d3e870108c",
   "metadata": {},
   "outputs": [
    {
     "data": {
      "text/plain": [
       "['Mohan', 'dash', 'karam', 'chandra', 'gandhi', 'Bapu', 'freedom_fighter']"
      ]
     },
     "execution_count": 22,
     "metadata": {},
     "output_type": "execute_result"
    }
   ],
   "source": [
    "name"
   ]
  },
  {
   "cell_type": "code",
   "execution_count": 23,
   "id": "823963dc-20aa-4afe-8607-185afc1c7e82",
   "metadata": {},
   "outputs": [
    {
     "data": {
      "text/plain": [
       "'name = [“freedomFighter”,\"Bapuji\",\"MOhan\" \"dash\", \"karam\",\"chandra\",\"gandhi\"]\\nlength1=len((name[-len(name)+1:-1:2]))\\nlength2=len((name[-len(name)+1:-1]))\\nprint(length1+length2) '"
      ]
     },
     "execution_count": 23,
     "metadata": {},
     "output_type": "execute_result"
    }
   ],
   "source": [
    "# b) find the output of the following ,and explain how?\n",
    "\n",
    "\"\"\"name = [“freedomFighter”,\"Bapuji\",\"MOhan\" \"dash\", \"karam\",\"chandra\",\"gandhi\"]\n",
    "length1=len((name[-len(name)+1:-1:2]))\n",
    "length2=len((name[-len(name)+1:-1]))\n",
    "print(length1+length2) \"\"\""
   ]
  },
  {
   "cell_type": "code",
   "execution_count": 24,
   "id": "7da5a56d-2de7-46fd-bff1-ef2d8a3180a7",
   "metadata": {},
   "outputs": [
    {
     "name": "stdout",
     "output_type": "stream",
     "text": [
      "8\n"
     ]
    }
   ],
   "source": [
    "name = [\"freedomFighter\",\"Bapuji\",\"MOhan\",\"dash\", \"karam\",\"chandra\",\"gandhi\"]\n",
    "length1=len((name[-len(name)+1:-1:2]))\n",
    "length2=len((name[-len(name)+1:-1]))\n",
    "print(length1+length2)"
   ]
  },
  {
   "cell_type": "code",
   "execution_count": 25,
   "id": "1818a548-f3c2-4047-8403-e4cc0854eb18",
   "metadata": {},
   "outputs": [
    {
     "data": {
      "text/plain": [
       "'\\nInsight >> the output of the above code is 8\\nname[-len(name)+1:-1:2] translates to name[1:-1:2] because -len(name)+1 is equivalent to 1 (since len(name) is 7).\\nThis slicing selects every second element starting from index 1 to the second-to-last element (index -1).\\nSo, the sliced list will be: [\"Bapuji\", \"dash\", \"chandra\"].\\nThe length of this sliced list is 3.\\nname[-len(name)+1:-1] translates to name[1:-1].\\nThis slicing selects elements starting from index 1 to the second-to-last element (index -1).\\nSo, the sliced list will be: [\"Bapuji\", \"MOhan\", \"dash\", \"karam\", \"chandra\"].\\nThe length of this sliced list is 5.\\n\\nTherefore, length1 + length2 equals 8.\\n'"
      ]
     },
     "execution_count": 25,
     "metadata": {},
     "output_type": "execute_result"
    }
   ],
   "source": [
    "\"\"\"\n",
    "Insight >> the output of the above code is 8\n",
    "name[-len(name)+1:-1:2] translates to name[1:-1:2] because -len(name)+1 is equivalent to 1 (since len(name) is 7).\n",
    "This slicing selects every second element starting from index 1 to the second-to-last element (index -1).\n",
    "So, the sliced list will be: [\"Bapuji\", \"dash\", \"chandra\"].\n",
    "The length of this sliced list is 3.\n",
    "name[-len(name)+1:-1] translates to name[1:-1].\n",
    "This slicing selects elements starting from index 1 to the second-to-last element (index -1).\n",
    "So, the sliced list will be: [\"Bapuji\", \"MOhan\", \"dash\", \"karam\", \"chandra\"].\n",
    "The length of this sliced list is 5.\n",
    "\n",
    "Therefore, length1 + length2 equals 8.\n",
    "\"\"\""
   ]
  },
  {
   "cell_type": "code",
   "execution_count": null,
   "id": "9b77f813-7c7d-4f36-9122-f95243b6b9b3",
   "metadata": {},
   "outputs": [],
   "source": [
    "# add two more elements in the name [\"NetaJi\",\"Bose\"] at the end of the list."
   ]
  },
  {
   "cell_type": "code",
   "execution_count": 60,
   "id": "7c2a96c7-8127-486a-8454-e7a8ac047a2c",
   "metadata": {},
   "outputs": [],
   "source": [
    "name.extend([\"NetaJi\",\"Bose\"])"
   ]
  },
  {
   "cell_type": "code",
   "execution_count": 62,
   "id": "e1e15a3f-2e84-4d92-8907-1f8a9b0325fa",
   "metadata": {},
   "outputs": [
    {
     "data": {
      "text/plain": [
       "['freedomFighter',\n",
       " 'Bapuji',\n",
       " 'MOhan',\n",
       " 'dash',\n",
       " 'karam',\n",
       " 'chandra',\n",
       " 'gandhi',\n",
       " 'NetaJi',\n",
       " 'NetaJi',\n",
       " 'Bose',\n",
       " 'NetaJi',\n",
       " 'Bose']"
      ]
     },
     "execution_count": 62,
     "metadata": {},
     "output_type": "execute_result"
    }
   ],
   "source": [
    "name"
   ]
  },
  {
   "cell_type": "code",
   "execution_count": null,
   "id": "b8066466-d163-4ea1-b350-fb5d2aafad8f",
   "metadata": {},
   "outputs": [],
   "source": [
    "\"\"\"\n",
    "d) what will be the value of temp:\n",
    "name = [\"Bapuji\", \"dash\", \"karam\", \"chandra\",\"gandi\",\"Mohan\"]\n",
    "temp=name[-1]\n",
    "name[-1]=name[0]\n",
    "name[0]=temp\n",
    "print(name)\n",
    "\"\""
   ]
  },
  {
   "cell_type": "code",
   "execution_count": 66,
   "id": "215fbecc-45f1-4389-af58-89ae74800fc9",
   "metadata": {},
   "outputs": [
    {
     "name": "stdout",
     "output_type": "stream",
     "text": [
      "['Mohan', 'dash', 'karam', 'chandra', 'gandi', 'Bapuji']\n"
     ]
    }
   ],
   "source": [
    "\n",
    "name = [\"Bapuji\", \"dash\", \"karam\", \"chandra\",\"gandi\",\"Mohan\"]\n",
    "temp=name[-1]\n",
    "name[-1]=name[0]\n",
    "name[0]=temp\n",
    "print(name)"
   ]
  },
  {
   "cell_type": "code",
   "execution_count": 68,
   "id": "b3856bf2-3ce9-4687-8642-f489ea6d5883",
   "metadata": {},
   "outputs": [
    {
     "data": {
      "text/plain": [
       "'Mohan'"
      ]
     },
     "execution_count": 68,
     "metadata": {},
     "output_type": "execute_result"
    }
   ],
   "source": [
    "temp"
   ]
  },
  {
   "cell_type": "code",
   "execution_count": null,
   "id": "9e5bd894-8279-4f13-a9b7-750ffc9039f0",
   "metadata": {},
   "outputs": [],
   "source": [
    "#>>> insights >> the value of temp is Mohan"
   ]
  }
 ],
 "metadata": {
  "kernelspec": {
   "display_name": "Python 3 (ipykernel)",
   "language": "python",
   "name": "python3"
  },
  "language_info": {
   "codemirror_mode": {
    "name": "ipython",
    "version": 3
   },
   "file_extension": ".py",
   "mimetype": "text/x-python",
   "name": "python",
   "nbconvert_exporter": "python",
   "pygments_lexer": "ipython3",
   "version": "3.12.4"
  }
 },
 "nbformat": 4,
 "nbformat_minor": 5
}
