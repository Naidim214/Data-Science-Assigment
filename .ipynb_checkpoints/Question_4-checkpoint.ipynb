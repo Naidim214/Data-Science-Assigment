{
 "cells": [
  {
   "cell_type": "code",
   "execution_count": 1,
   "id": "125f4a1f-9303-4aa7-b70f-69b69cba7bcc",
   "metadata": {},
   "outputs": [
    {
     "data": {
      "text/plain": [
       "'\\n4.Create a simple baning system using object-oriented concepts in Python. Design classes representing\\ndifferent types of ban accounts such as savings and checing. Implement methods for deposit, withdraw,\\nand balance inquiry. Utilize inheritance to manage different account types efficiently.\\nTasks\\n 1. Define base class(es) for bank accounts with common attributes and methods\\n 2. Implement subclasses for specific account types (e.g., SavingsAccount, CheckingAccount)\\n 3. Provide methods for deposit, withdraw, and balance inquiry in each subclass\\n 4. Test the banking system by creating instances of different account types and performing transactions.\\n'"
      ]
     },
     "execution_count": 1,
     "metadata": {},
     "output_type": "execute_result"
    }
   ],
   "source": [
    "\"\"\"\n",
    "4.Create a simple baning system using object-oriented concepts in Python. Design classes representing\n",
    "different types of ban accounts such as savings and checing. Implement methods for deposit, withdraw,\n",
    "and balance inquiry. Utilize inheritance to manage different account types efficiently.\n",
    "Tasks\n",
    " 1. Define base class(es) for bank accounts with common attributes and methods\n",
    " 2. Implement subclasses for specific account types (e.g., SavingsAccount, CheckingAccount)\n",
    " 3. Provide methods for deposit, withdraw, and balance inquiry in each subclass\n",
    " 4. Test the banking system by creating instances of different account types and performing transactions.\n",
    "\"\"\""
   ]
  },
  {
   "cell_type": "code",
   "execution_count": 9,
   "id": "e885953c-cf09-4a01-b571-85ff527828c9",
   "metadata": {},
   "outputs": [],
   "source": [
    "#   1. Define base class(es) for bank accounts with common attributes and methods\n",
    "\n",
    "# Base class for bank accounts\n",
    "class BankAccount:\n",
    "    def __init__(self, account_number, balance=0):\n",
    "        self.account_number = account_number\n",
    "        self.balance = balance\n",
    "\n",
    "    def deposit(self, amount):\n",
    "        if amount > 0:\n",
    "            self.balance += amount\n",
    "            print(f\"Deposited ${amount}. New balance: ${self.balance}\")\n",
    "        else:\n",
    "            print(\"Invalid deposit amount!\")\n",
    "\n",
    "    def withdraw(self, amount):\n",
    "        if 0 < amount <= self.balance:\n",
    "            self.balance -= amount\n",
    "            print(f\"Withdrew ${amount}. New balance: ${self.balance}\")\n",
    "        else:\n",
    "            print(\"Invalid or insufficient funds for withdrawal!\")\n",
    "\n",
    "    def check_balance(self):\n",
    "        print(f\"Account balance: ${self.balance}\")\n",
    "\n",
    "\n",
    "\n",
    "\n",
    "\n"
   ]
  },
  {
   "cell_type": "code",
   "execution_count": 11,
   "id": "005e0562-e899-47dd-875d-b33bdc95cda4",
   "metadata": {},
   "outputs": [],
   "source": [
    "#    2. Implement subclasses for specific account types (e.g., SavingsAccount, CheckingAccount)\n",
    "\n",
    "# Subclass for savings account\n",
    "class SavingsAccount(BankAccount):\n",
    "    def __init__(self, account_number, balance=0):\n",
    "        super().__init__(account_number, balance)\n",
    "        self.interest_rate = 0.02  # Example interest rate\n",
    "\n",
    "    def add_interest(self):\n",
    "        interest = self.balance * self.interest_rate\n",
    "        self.balance += interest\n",
    "        print(f\"Interest added: ${interest}. New balance: ${self.balance}\")\n",
    "\n",
    "# Subclass for checking account\n",
    "class CheckingAccount(BankAccount):\n",
    "    def __init__(self, account_number, balance=0):\n",
    "        super().__init__(account_number, balance)\n",
    "        self.overdraft_limit = -500  # Example overdraft limit\n",
    "\n",
    "    def withdraw(self, amount):\n",
    "        if self.balance - amount >= self.overdraft_limit:\n",
    "            self.balance -= amount\n",
    "            print(f\"Withdrew ${amount}. New balance: ${self.balance}\")\n",
    "        else:\n",
    "            print(\"Overdraft limit reached. Cannot withdraw!\")"
   ]
  },
  {
   "cell_type": "code",
   "execution_count": 13,
   "id": "ffc678ae-280b-4b8c-b35a-6052eeb3a20d",
   "metadata": {},
   "outputs": [
    {
     "name": "stdout",
     "output_type": "stream",
     "text": [
      "\n",
      "Savings Account Transactions:\n",
      "Account balance: $1000\n",
      "Deposited $200. New balance: $1200\n",
      "Interest added: $24.0. New balance: $1224.0\n",
      "Withdrew $500. New balance: $724.0\n",
      "Account balance: $724.0\n",
      "\n",
      "Checking Account Transactions:\n",
      "Account balance: $500\n",
      "Deposited $300. New balance: $800\n",
      "Withdrew $1000. New balance: $-200\n",
      "Withdrew $100. New balance: $-300\n",
      "Account balance: $-300\n"
     ]
    }
   ],
   "source": [
    " #   4. Test the banking system by creating instances of different account types and performing transactions.\n",
    "\n",
    "# Testing the banking system\n",
    "if __name__ == \"__main__\":\n",
    "    # Creating instances of different account types\n",
    "    savings = SavingsAccount(\"S12345\", 1000)\n",
    "    checking = CheckingAccount(\"C12345\", 500)\n",
    "\n",
    "    # Performing transactions\n",
    "    print(\"\\nSavings Account Transactions:\")\n",
    "    savings.check_balance()\n",
    "    savings.deposit(200)\n",
    "    savings.add_interest()\n",
    "    savings.withdraw(500)\n",
    "    savings.check_balance()\n",
    "\n",
    "    print(\"\\nChecking Account Transactions:\")\n",
    "    checking.check_balance()\n",
    "    checking.deposit(300)\n",
    "    checking.withdraw(1000)  # Overdraft test\n",
    "    checking.withdraw(100)  # Valid withdrawal\n",
    "    checking.check_balance()\n"
   ]
  },
  {
   "cell_type": "code",
   "execution_count": null,
   "id": "623e8643-2dde-411f-8fb8-19181c46c484",
   "metadata": {},
   "outputs": [],
   "source": []
  },
  {
   "cell_type": "code",
   "execution_count": null,
   "id": "91e0d555-109e-452a-98a7-19a8d6c1b208",
   "metadata": {},
   "outputs": [],
   "source": []
  }
 ],
 "metadata": {
  "kernelspec": {
   "display_name": "Python 3 (ipykernel)",
   "language": "python",
   "name": "python3"
  },
  "language_info": {
   "codemirror_mode": {
    "name": "ipython",
    "version": 3
   },
   "file_extension": ".py",
   "mimetype": "text/x-python",
   "name": "python",
   "nbconvert_exporter": "python",
   "pygments_lexer": "ipython3",
   "version": "3.12.4"
  }
 },
 "nbformat": 4,
 "nbformat_minor": 5
}
