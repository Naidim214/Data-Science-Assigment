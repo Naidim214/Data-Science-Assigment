{
 "cells": [
  {
   "cell_type": "code",
   "execution_count": 1,
   "id": "b273d4a2-de54-4558-8c33-0f6c18d8be59",
   "metadata": {},
   "outputs": [
    {
     "data": {
      "text/plain": [
       "'\\n\\n1.7. Write a program to create a simple calculator performing only four basic operations(+,-,/,*) .\\n\\n'"
      ]
     },
     "execution_count": 1,
     "metadata": {},
     "output_type": "execute_result"
    }
   ],
   "source": [
    "\"\"\"\n",
    "\n",
    "1.7. Write a program to create a simple calculator performing only four basic operations(+,-,/,*) .\n",
    "\n",
    "\"\"\""
   ]
  },
  {
   "cell_type": "code",
   "execution_count": 15,
   "id": "77d08633-1054-477f-bbc6-da9d415fe0fa",
   "metadata": {},
   "outputs": [
    {
     "name": "stdin",
     "output_type": "stream",
     "text": [
      "Enter the first number 7\n",
      "Enter the second number 9\n",
      "enter the operator (+,-,/,*) -\n"
     ]
    },
    {
     "name": "stdout",
     "output_type": "stream",
     "text": [
      "The subtraction of 7 and 9 is -2\n"
     ]
    }
   ],
   "source": [
    "def calculator():\n",
    "    num1=int(input(\"Enter the first number\"))\n",
    "    num2=int(input(\"Enter the second number\"))\n",
    "    operator=input(\"enter the operator (+,-,/,*)\")\n",
    "\n",
    "    if operator==\"+\":\n",
    "        print(f\"The addition of {num1} and {num2} is {num1+num2}\")\n",
    "    elif operator==\"-\":\n",
    "        print(f\"The subtraction of {num1} and {num2} is {num1-num2}\")\n",
    "    elif operator==\"*\":\n",
    "        print(f\"The Multiplication of {num1} and {num2} is {num1*num2}\")\n",
    "    elif operator==\"/\":\n",
    "        print(f\"The Division of {num1} and {num2} is {num1/num2}\")\n",
    "    else:\n",
    "        print(\"invalid operator\")\n",
    "\n",
    "calculator()"
   ]
  },
  {
   "cell_type": "code",
   "execution_count": null,
   "id": "8870cf40-3f5a-4388-bb8f-d7076ddfe04b",
   "metadata": {},
   "outputs": [],
   "source": []
  }
 ],
 "metadata": {
  "kernelspec": {
   "display_name": "Python 3 (ipykernel)",
   "language": "python",
   "name": "python3"
  },
  "language_info": {
   "codemirror_mode": {
    "name": "ipython",
    "version": 3
   },
   "file_extension": ".py",
   "mimetype": "text/x-python",
   "name": "python",
   "nbconvert_exporter": "python",
   "pygments_lexer": "ipython3",
   "version": "3.12.4"
  }
 },
 "nbformat": 4,
 "nbformat_minor": 5
}
