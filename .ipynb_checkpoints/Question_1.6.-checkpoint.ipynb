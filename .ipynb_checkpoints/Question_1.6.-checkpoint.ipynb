{
 "cells": [
  {
   "cell_type": "code",
   "execution_count": 1,
   "id": "400127b8-081e-42c1-b486-1ab4bf3893dc",
   "metadata": {},
   "outputs": [
    {
     "data": {
      "text/plain": [
       "'\\nQuestion 1.6. Write a program to display the appropriate message as per the color of signal(RED-Stop/Yellow-Stay/\\nGreen-Go) at the road crossing.\\n\\n'"
      ]
     },
     "execution_count": 1,
     "metadata": {},
     "output_type": "execute_result"
    }
   ],
   "source": [
    "\"\"\"\n",
    "Question 1.6. Write a program to display the appropriate message as per the color of signal(RED-Stop/Yellow-Stay/\n",
    "Green-Go) at the road crossing.\n",
    "\n",
    "\"\"\""
   ]
  },
  {
   "cell_type": "code",
   "execution_count": 13,
   "id": "185b9d79-5c2f-44bd-8b01-ad4c6a0016ae",
   "metadata": {},
   "outputs": [
    {
     "name": "stdin",
     "output_type": "stream",
     "text": [
      "Enter the color of the traffic signal (Red/Yellow/Green) Red\n"
     ]
    },
    {
     "name": "stdout",
     "output_type": "stream",
     "text": [
      "Stop\n"
     ]
    }
   ],
   "source": [
    "def traffic_signal():\n",
    "    color=input(\"Enter the color of the traffic signal (Red/Yellow/Green)\").strip().upper()\n",
    "\n",
    "    if  color=='RED':\n",
    "                print('Stop')\n",
    "    elif  color==\"YELLOW\":\n",
    "                print('Stay')\n",
    "    elif  color==\"GREEN\":\n",
    "                print(\"GO\")\n",
    "    \n",
    "\n",
    "traffic_signal()"
   ]
  },
  {
   "cell_type": "code",
   "execution_count": null,
   "id": "b8c75215-e288-43c1-b658-f87a2664e504",
   "metadata": {},
   "outputs": [],
   "source": [
    "\n"
   ]
  },
  {
   "cell_type": "code",
   "execution_count": null,
   "id": "00636766-d150-444a-9b06-329f421f8560",
   "metadata": {},
   "outputs": [],
   "source": []
  }
 ],
 "metadata": {
  "kernelspec": {
   "display_name": "Python 3 (ipykernel)",
   "language": "python",
   "name": "python3"
  },
  "language_info": {
   "codemirror_mode": {
    "name": "ipython",
    "version": 3
   },
   "file_extension": ".py",
   "mimetype": "text/x-python",
   "name": "python",
   "nbconvert_exporter": "python",
   "pygments_lexer": "ipython3",
   "version": "3.12.4"
  }
 },
 "nbformat": 4,
 "nbformat_minor": 5
}
