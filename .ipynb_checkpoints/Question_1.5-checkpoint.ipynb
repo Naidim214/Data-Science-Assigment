{
 "cells": [
  {
   "cell_type": "code",
   "execution_count": null,
   "id": "60b03179-b3ad-41b9-aa37-51e97109a206",
   "metadata": {},
   "outputs": [],
   "source": [
    "\"\"\"\n",
    "\n",
    "Question 1.5. \n",
    "tuple1=(10,20,\"Apple\",3.4,'a',[\"master\",\"ji\"],(\"sita\",\"geeta\",22),[{\"roll_no\"N1},\n",
    "{\"name\"N\"Navneet\"}])\n",
    "a)Print(len(tuple1))\n",
    "b)Print(tuple1[-1][-1][\"name\"])\n",
    "c)fetch the value of roll_no from this tuTple.\n",
    "d)Print(tuple1[-3][1])\n",
    "e)fetch the element \"22\" from this tuple.\n",
    "\n",
    "\"\"\""
   ]
  },
  {
   "cell_type": "code",
   "execution_count": 3,
   "id": "66660969-198c-49f6-a715-488826719595",
   "metadata": {},
   "outputs": [],
   "source": [
    "tuple1=(10,20,\"Apple\",3.4,'a',[\"master\",\"ji\"],(\"sita\",\"geeta\",22),[{\"roll_no\":1},\n",
    "{\"name\":\"Navneet\"}])"
   ]
  },
  {
   "cell_type": "code",
   "execution_count": 7,
   "id": "74eca0d9-876f-4d43-87d4-0aba3d7ee047",
   "metadata": {},
   "outputs": [
    {
     "name": "stdout",
     "output_type": "stream",
     "text": [
      "8\n"
     ]
    }
   ],
   "source": [
    "# a)Print(len(tuple1))\n",
    "print(len(tuple1))"
   ]
  },
  {
   "cell_type": "code",
   "execution_count": null,
   "id": "697a4bdb-fa50-4983-913d-5e8faccc076c",
   "metadata": {},
   "outputs": [],
   "source": [
    "# Insight>> length of tuple is "
   ]
  },
  {
   "cell_type": "code",
   "execution_count": 11,
   "id": "92354781-d76d-4503-b02f-2ad143068833",
   "metadata": {},
   "outputs": [
    {
     "name": "stdout",
     "output_type": "stream",
     "text": [
      "Navneet\n"
     ]
    }
   ],
   "source": [
    "# b)Print(tuple1[-1][-1][\"name\"])\n",
    "\n",
    "print(tuple1[-1][-1][\"name\"])"
   ]
  },
  {
   "cell_type": "code",
   "execution_count": 15,
   "id": "99fa0df3-3ecd-4970-8043-9d4d2b456554",
   "metadata": {},
   "outputs": [
    {
     "name": "stdout",
     "output_type": "stream",
     "text": [
      "1\n"
     ]
    }
   ],
   "source": [
    "# fetch the value of roll_no from this tuTple.\n",
    "\n",
    "roll_no_ = tuple1[-1][0][\"roll_no\"]\n",
    "print(roll_no_)\n"
   ]
  },
  {
   "cell_type": "code",
   "execution_count": 19,
   "id": "9747d427-03fc-45cd-821c-a1e4f0d6f73a",
   "metadata": {},
   "outputs": [
    {
     "name": "stdout",
     "output_type": "stream",
     "text": [
      "ji\n"
     ]
    }
   ],
   "source": [
    "# d)print(tuple1[-3][1])\n",
    "print(tuple1[-3][1])"
   ]
  },
  {
   "cell_type": "code",
   "execution_count": 23,
   "id": "ce5daf6a-9c7e-44f0-bb14-fb2c0509737a",
   "metadata": {},
   "outputs": [
    {
     "name": "stdout",
     "output_type": "stream",
     "text": [
      "22\n"
     ]
    }
   ],
   "source": [
    "# e)fetch the element \"22\" from this tuple.\n",
    "print(tuple1[-2][-1])  \n",
    "\n"
   ]
  },
  {
   "cell_type": "code",
   "execution_count": null,
   "id": "30066f46-9999-4b60-99e2-9284a61e1860",
   "metadata": {},
   "outputs": [],
   "source": []
  }
 ],
 "metadata": {
  "kernelspec": {
   "display_name": "Python 3 (ipykernel)",
   "language": "python",
   "name": "python3"
  },
  "language_info": {
   "codemirror_mode": {
    "name": "ipython",
    "version": 3
   },
   "file_extension": ".py",
   "mimetype": "text/x-python",
   "name": "python",
   "nbconvert_exporter": "python",
   "pygments_lexer": "ipython3",
   "version": "3.12.4"
  }
 },
 "nbformat": 4,
 "nbformat_minor": 5
}
