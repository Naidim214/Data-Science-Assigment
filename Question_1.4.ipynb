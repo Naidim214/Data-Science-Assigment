{
 "cells": [
  {
   "cell_type": "code",
   "execution_count": 6,
   "id": "c3d1d370-4e30-4b73-934e-3ff4fb5c90b9",
   "metadata": {},
   "outputs": [
    {
     "data": {
      "text/plain": [
       "\"\\n\\nQuestion 1.4.Find the output of the following.\\nanimal = ['Human','cat','mat','cat','rat','Human', 'Lion']\\nprint(animal.count('Human'))\\nprint(animal.index('rat'))\\nprint(len(animal))\\n\\n\""
      ]
     },
     "execution_count": 6,
     "metadata": {},
     "output_type": "execute_result"
    }
   ],
   "source": [
    "\"\"\"\n",
    "\n",
    "Question 1.4.Find the output of the following.\n",
    "animal = ['Human','cat','mat','cat','rat','Human', 'Lion']\n",
    "print(animal.count('Human'))\n",
    "print(animal.index('rat'))\n",
    "print(len(animal))\n",
    "\n",
    "\"\"\""
   ]
  },
  {
   "cell_type": "code",
   "execution_count": 8,
   "id": "c49cba1e-586e-4019-b8b9-294c435fd414",
   "metadata": {},
   "outputs": [
    {
     "name": "stdout",
     "output_type": "stream",
     "text": [
      "2\n",
      "4\n",
      "7\n"
     ]
    }
   ],
   "source": [
    "animal = ['Human','cat','mat','cat','rat','Human', 'Lion']\n",
    "print(animal.count('Human'))\n",
    "print(animal.index('rat'))\n",
    "print(len(animal))"
   ]
  },
  {
   "cell_type": "code",
   "execution_count": null,
   "id": "60fe2250-7f99-4375-9278-21713d0983f3",
   "metadata": {},
   "outputs": [],
   "source": [
    "# Insight>> the output of the folling code is \n",
    "2\n",
    "4\n",
    "7"
   ]
  }
 ],
 "metadata": {
  "kernelspec": {
   "display_name": "Python 3 (ipykernel)",
   "language": "python",
   "name": "python3"
  },
  "language_info": {
   "codemirror_mode": {
    "name": "ipython",
    "version": 3
   },
   "file_extension": ".py",
   "mimetype": "text/x-python",
   "name": "python",
   "nbconvert_exporter": "python",
   "pygments_lexer": "ipython3",
   "version": "3.12.4"
  }
 },
 "nbformat": 4,
 "nbformat_minor": 5
}
