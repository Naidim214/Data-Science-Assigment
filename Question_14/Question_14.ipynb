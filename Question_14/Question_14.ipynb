{
 "cells": [
  {
   "cell_type": "code",
   "execution_count": 1,
   "id": "1bd82132-0136-44a1-8eca-bf71759ffb91",
   "metadata": {},
   "outputs": [
    {
     "name": "stdout",
     "output_type": "stream",
     "text": [
      "dlrow olleh\n",
      "Hello World\n"
     ]
    }
   ],
   "source": [
    "from string_utils import reverse_string, capitalize_string\n",
    "\n",
    "# Example usage\n",
    "reversed_string = reverse_string(\"hello world\")\n",
    "capitalized_string = capitalize_string(\"hello world\")\n",
    "\n",
    "print(reversed_string)  # Output: \"dlrow olleh\"\n",
    "print(capitalized_string)  # Output: \"Hello World\"\n"
   ]
  },
  {
   "cell_type": "code",
   "execution_count": null,
   "id": "68cfa2e5-1db6-47e0-a047-5ecd72781ca8",
   "metadata": {},
   "outputs": [],
   "source": []
  }
 ],
 "metadata": {
  "kernelspec": {
   "display_name": "Python 3 (ipykernel)",
   "language": "python",
   "name": "python3"
  },
  "language_info": {
   "codemirror_mode": {
    "name": "ipython",
    "version": 3
   },
   "file_extension": ".py",
   "mimetype": "text/x-python",
   "name": "python",
   "nbconvert_exporter": "python",
   "pygments_lexer": "ipython3",
   "version": "3.12.4"
  }
 },
 "nbformat": 4,
 "nbformat_minor": 5
}
