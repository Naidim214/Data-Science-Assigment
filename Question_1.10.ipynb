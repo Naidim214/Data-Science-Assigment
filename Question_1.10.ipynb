{
 "cells": [
  {
   "cell_type": "code",
   "execution_count": null,
   "id": "e83703cb-c52c-4e40-b6fa-7ca045d60854",
   "metadata": {},
   "outputs": [],
   "source": [
    "\"\"\"\n",
    "1.10 Write a program to find the sum of all the positive numbers entered by the user. As soon as the user\n",
    "enters a negative number, stop taking in any further input from the user and display the sum .\n",
    "\"\"\""
   ]
  },
  {
   "cell_type": "code",
   "execution_count": 12,
   "id": "a41435c7-87ac-40e6-abe4-8786a65354e2",
   "metadata": {},
   "outputs": [
    {
     "name": "stdin",
     "output_type": "stream",
     "text": [
      "Enter number 8\n",
      "Enter number 3\n",
      "Enter number 4\n",
      "Enter number 4\n",
      "Enter number 3\n",
      "Enter number 6\n",
      "Enter number 3\n",
      "Enter number 6\n",
      "Enter number 0\n",
      "Enter number 64\n",
      "Enter number 346\n",
      "Enter number 34\n",
      "Enter number -2\n"
     ]
    },
    {
     "name": "stdout",
     "output_type": "stream",
     "text": [
      "Sum of numbers = 481\n"
     ]
    }
   ],
   "source": [
    "\n",
    "sum=0\n",
    "while True:\n",
    "    num=int(input(\"Enter number\"))\n",
    "    if num<0:\n",
    "        break\n",
    "    sum+=num\n",
    "print('Sum of numbers =',sum)\n",
    "    "
   ]
  },
  {
   "cell_type": "code",
   "execution_count": null,
   "id": "0dae8985-8a31-46b1-914e-b700ce653eee",
   "metadata": {},
   "outputs": [],
   "source": []
  }
 ],
 "metadata": {
  "kernelspec": {
   "display_name": "Python 3 (ipykernel)",
   "language": "python",
   "name": "python3"
  },
  "language_info": {
   "codemirror_mode": {
    "name": "ipython",
    "version": 3
   },
   "file_extension": ".py",
   "mimetype": "text/x-python",
   "name": "python",
   "nbconvert_exporter": "python",
   "pygments_lexer": "ipython3",
   "version": "3.12.4"
  }
 },
 "nbformat": 4,
 "nbformat_minor": 5
}
