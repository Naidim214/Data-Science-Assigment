{
 "cells": [
  {
   "cell_type": "code",
   "execution_count": 1,
   "id": "b6222344-3da6-41df-91a6-318c055fe2af",
   "metadata": {},
   "outputs": [
    {
     "data": {
      "text/plain": [
       "'\\n15. Write a Python module named file_operations.py with functions for reading, writing, and appending\\ndata to a file.\\n'"
      ]
     },
     "execution_count": 1,
     "metadata": {},
     "output_type": "execute_result"
    }
   ],
   "source": [
    "\"\"\"\n",
    "15. Write a Python module named file_operations.py with functions for reading, writing, and appending\n",
    "data to a file.\n",
    "\"\"\""
   ]
  },
  {
   "cell_type": "code",
   "execution_count": 4,
   "id": "3b4d1d8d-1e75-47e9-8da4-f869f64adfdb",
   "metadata": {},
   "outputs": [
    {
     "name": "stdout",
     "output_type": "stream",
     "text": [
      "File Content:\n",
      "Hello, World!\n",
      "\n",
      "Updated File Content:\n",
      "Hello, World!\n",
      "This is an appended line.\n",
      "\n"
     ]
    }
   ],
   "source": [
    " # usage_example.py\n",
    "\n",
    "import file_operations\n",
    "\n",
    "file_path = 'example.txt'\n",
    "\n",
    "# Writing data to a file\n",
    "file_operations.write_file(file_path, \"Hello, World!\\n\")\n",
    "\n",
    "# Reading data from a file\n",
    "content = file_operations.read_file(file_path)\n",
    "print(f\"File Content:\\n{content}\")\n",
    "\n",
    "# Appending data to a file\n",
    "file_operations.append_to_file(file_path, \"This is an appended line.\\n\")\n",
    "\n",
    "# Reading data again to verify append\n",
    "content = file_operations.read_file(file_path)\n",
    "print(f\"Updated File Content:\\n{content}\")\n"
   ]
  },
  {
   "cell_type": "code",
   "execution_count": null,
   "id": "c086e8fb-a03c-4c52-b98b-c75c8a8aa950",
   "metadata": {},
   "outputs": [],
   "source": []
  }
 ],
 "metadata": {
  "kernelspec": {
   "display_name": "Python 3 (ipykernel)",
   "language": "python",
   "name": "python3"
  },
  "language_info": {
   "codemirror_mode": {
    "name": "ipython",
    "version": 3
   },
   "file_extension": ".py",
   "mimetype": "text/x-python",
   "name": "python",
   "nbconvert_exporter": "python",
   "pygments_lexer": "ipython3",
   "version": "3.12.4"
  }
 },
 "nbformat": 4,
 "nbformat_minor": 5
}
