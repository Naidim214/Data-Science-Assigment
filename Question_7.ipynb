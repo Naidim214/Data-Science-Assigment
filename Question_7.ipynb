{
 "cells": [
  {
   "cell_type": "code",
   "execution_count": 3,
   "id": "e3dee470-7bd3-4634-9f29-4e4ce3c82bf7",
   "metadata": {},
   "outputs": [
    {
     "data": {
      "text/plain": [
       "\"\\n.Write a code for Hotel Management System using OOPS :\\n Create a Room class that has attributes such as room number, room type, rate, and availability (private)\\n Implement methods to book a room, check in a guest, and check out a guest\\n Use encapsulation to hide the room's unique identification number\\n Inherit from the Room class to create a SuiteRoom class and a StandardRoom class, each with their own\\nspecific attributes and methods.\\n\""
      ]
     },
     "execution_count": 3,
     "metadata": {},
     "output_type": "execute_result"
    }
   ],
   "source": [
    "\"\"\"\n",
    "7.Write a code for Hotel Management System using OOPS :\n",
    " Create a Room class that has attributes such as room number, room type, rate, and availability (private)\n",
    " Implement methods to book a room, check in a guest, and check out a guest\n",
    " Use encapsulation to hide the room's unique identification number\n",
    " Inherit from the Room class to create a SuiteRoom class and a StandardRoom class, each with their own\n",
    "specific attributes and methods.\n",
    "\"\"\""
   ]
  },
  {
   "cell_type": "code",
   "execution_count": 11,
   "id": "90c9c252-62ed-4648-9fc7-8d01c589b6c1",
   "metadata": {},
   "outputs": [
    {
     "name": "stdout",
     "output_type": "stream",
     "text": [
      "Room Number: 0,Type:suite,Rate:300,Status:Available,Living Area: Yes\n",
      "Room Number: 1,Type:Standard,Rate:100,Status:Available,Bed Type: Queen\n",
      "Room 0 booked successfully.\n",
      "Guest checked into Room 0.\n",
      "Guest checked out from Room 0.\n"
     ]
    }
   ],
   "source": [
    "#  Create a Room class that has attributes such as room number, room type, rate, and availability (private)\n",
    "class Room:\n",
    "    _id_counter=0\n",
    "\n",
    "    def __init__(self,room_type,rate,availability=True):\n",
    "        self.__room_number=Room._id_counter\n",
    "        Room._id_counter +=1\n",
    "        self.room_type=room_type\n",
    "        self.rate=rate\n",
    "        self.availability=availability\n",
    "\n",
    "    @property\n",
    "    def room_number(self):\n",
    "        return self.__room_number\n",
    "\n",
    "    def book_room(self):\n",
    "        if self.availability:\n",
    "            self.availability=False\n",
    "            print(f\"Room {self.__room_number} booked successfully.\")\n",
    "        else:\n",
    "            print(f\"Room {self.__room_number} is already booked.\")\n",
    "\n",
    "    def check_in(self):\n",
    "        if not self.availability:\n",
    "            print(f\"Guest checked into Room {self.__room_number}.\")\n",
    "        else:\n",
    "            print(f\"Room {self.__room_number} is not booked yet.\")\n",
    "\n",
    "    def check_out(self):\n",
    "        if not self.availability:\n",
    "            self.availability = True\n",
    "            print(f\"Guest checked out from Room {self.__room_number}.\")\n",
    "        else:\n",
    "            print(f\"Room {self.__room_number} is already available.\")\n",
    "            \n",
    "    def __str__(self):\n",
    "        status=\"Available\" if self.availability else \"Booked\"\n",
    "        return f\"Room Number: {self.__room_number},Type:{self.room_type},Rate:{self.rate},Status:{status}\"\n",
    "\n",
    "# Inherit from the Room class to create a SuiteRoom class and a StandardRoom class, each with their own\n",
    "\n",
    "class SuiteRoom(Room):\n",
    "    def __init__(self,rate,availability=True,has_living_area=True):\n",
    "        super().__init__(\"suite\",rate,availability)\n",
    "        self.has_living_area=has_living_area\n",
    "\n",
    "    def __str__(self):\n",
    "        return f\"{super().__str__()},Living Area: {'Yes' if self.has_living_area else 'No'}\"\n",
    "\n",
    "\n",
    "class StandardRoom(Room):\n",
    "    def __init__(self,rate,availability=True,bed_type=\"Queen\"):\n",
    "        super().__init__('Standard',rate,availability)\n",
    "        self.bed_type=bed_type\n",
    "    def __str__(self):\n",
    "        return f\"{super().__str__()},Bed Type: {self.bed_type}\"\n",
    "\n",
    "#Testing the system\n",
    "if __name__ == \"__main__\":\n",
    "    suite = SuiteRoom(rate=300)\n",
    "    standard = StandardRoom(rate=100)\n",
    "\n",
    "    print(suite)\n",
    "    print(standard)\n",
    "\n",
    "    suite.book_room()\n",
    "    suite.check_in()\n",
    "    suite.check_out()"
   ]
  },
  {
   "cell_type": "code",
   "execution_count": null,
   "id": "09222479-4145-4707-8e20-95bfda6b0960",
   "metadata": {},
   "outputs": [],
   "source": []
  }
 ],
 "metadata": {
  "kernelspec": {
   "display_name": "Python 3 (ipykernel)",
   "language": "python",
   "name": "python3"
  },
  "language_info": {
   "codemirror_mode": {
    "name": "ipython",
    "version": 3
   },
   "file_extension": ".py",
   "mimetype": "text/x-python",
   "name": "python",
   "nbconvert_exporter": "python",
   "pygments_lexer": "ipython3",
   "version": "3.12.4"
  }
 },
 "nbformat": 4,
 "nbformat_minor": 5
}
