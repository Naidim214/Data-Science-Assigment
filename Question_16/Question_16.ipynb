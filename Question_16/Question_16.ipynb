{
 "cells": [
  {
   "cell_type": "code",
   "execution_count": 5,
   "id": "a25cc1e6-b148-47cd-ba82-a9e3b9e4eb50",
   "metadata": {},
   "outputs": [
    {
     "data": {
      "text/plain": [
       "'\\n16. Write a Python program to create a text file named \"employees.txt\" and write the details of employees,\\nincluding their name, age, and salary, into the file.\\n'"
      ]
     },
     "execution_count": 5,
     "metadata": {},
     "output_type": "execute_result"
    }
   ],
   "source": [
    "\"\"\"\n",
    "16. Write a Python program to create a text file named \"employees.txt\" and write the details of employees,\n",
    "including their name, age, and salary, into the file.\n",
    "\"\"\""
   ]
  },
  {
   "cell_type": "code",
   "execution_count": 1,
   "id": "b1f11058-6942-487c-9f08-826f4c5de559",
   "metadata": {},
   "outputs": [
    {
     "name": "stdout",
     "output_type": "stream",
     "text": [
      "Employee details have been written to employees.txt\n"
     ]
    }
   ],
   "source": [
    "def write_employee_details():\n",
    "    # Open the file in write mode, which creates the file if it doesn't exist\n",
    "    with open(\"employees.txt\", \"w\") as file:\n",
    "        # List of employees with their details: name, age, and salary\n",
    "        employees = [\n",
    "            {\"name\": \"John Doe\", \"age\": 30, \"salary\": 50000},\n",
    "            {\"name\": \"Jane Smith\", \"age\": 28, \"salary\": 55000},\n",
    "            {\"name\": \"Emily Johnson\", \"age\": 35, \"salary\": 60000}\n",
    "        ]\n",
    "\n",
    "        # Writing employee details to the file\n",
    "        for employee in employees:\n",
    "            file.write(f\"Name: {employee['name']}, Age: {employee['age']}, Salary: ${employee['salary']}\\n\")\n",
    "\n",
    "    print(\"Employee details have been written to employees.txt\")\n",
    "\n",
    "# Call the function to write employee details to the file\n",
    "write_employee_details()\n"
   ]
  },
  {
   "cell_type": "code",
   "execution_count": null,
   "id": "a6436f51-9eb5-48b5-85c7-54f523d8292f",
   "metadata": {},
   "outputs": [],
   "source": []
  }
 ],
 "metadata": {
  "kernelspec": {
   "display_name": "Python 3 (ipykernel)",
   "language": "python",
   "name": "python3"
  },
  "language_info": {
   "codemirror_mode": {
    "name": "ipython",
    "version": 3
   },
   "file_extension": ".py",
   "mimetype": "text/x-python",
   "name": "python",
   "nbconvert_exporter": "python",
   "pygments_lexer": "ipython3",
   "version": "3.12.4"
  }
 },
 "nbformat": 4,
 "nbformat_minor": 5
}
