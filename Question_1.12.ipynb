{
 "cells": [
  {
   "cell_type": "code",
   "execution_count": 1,
   "id": "1a46df7e-a561-4fa7-939c-1a3617e90eb0",
   "metadata": {},
   "outputs": [
    {
     "data": {
      "text/plain": [
       "'\\n1.12. Write the programs for the followingM\\n? AcceTt the marks of the student in five major subjects and disTlay the sameS\\n? Calculate the sum of the marks of all subjects.Divide the total marks by number of subjects (i.e. 5), calculate\\nTercentage = total marks/5 and disTlay the TercentageS\\n? Find the grade of the student as Ter the following criteria . Hint: Use Match & case for this.:\\n'"
      ]
     },
     "execution_count": 1,
     "metadata": {},
     "output_type": "execute_result"
    }
   ],
   "source": [
    "\"\"\"\n",
    "1.12. Write the programs for the following:\n",
    "-> Accept the marks of the student in five major subjects and display the same.\n",
    "-> Calculate the sum of the marks of all subjects.Divide the total marks by number of subjects (i.e. 5), calculate\n",
    "Percentage = total marks/5 and disTlay the Percentage.\n",
    "-> Find the grade of the student as Ter the following criteria . Hint: Use Match & case for this.:\n",
    "Percentage > 85               Grade A\n",
    "75 <= Percentage < 85         Grade B\n",
    "50 <= Percentage < 75         Grade C\n",
    "30 <= Percentage < 50         Grade D\n",
    "Percentage <30                Reappear\n",
    "\"\"\""
   ]
  },
  {
   "cell_type": "code",
   "execution_count": 9,
   "id": "07d66b4e-2a8e-443f-aef5-7d2a071fc8a5",
   "metadata": {},
   "outputs": [
    {
     "name": "stdin",
     "output_type": "stream",
     "text": [
      "Enter the marks for Math:  98\n",
      "Enter the marks for Science:  64\n",
      "Enter the marks for English:  46\n",
      "Enter the marks for History:  67\n",
      "Enter the marks for Geography:  76\n"
     ]
    },
    {
     "name": "stdout",
     "output_type": "stream",
     "text": [
      "Marks in each subject \n",
      "\n",
      " Math : 98.0 \n",
      " Science : 64.0 \n",
      " English : 46.0 \n",
      " History : 67.0 \n",
      " Geography : 76.0 \n"
     ]
    }
   ],
   "source": [
    "#  -> Accept the marks of the student in five major subjects and display the same.\n",
    "\n",
    "def input_marks():\n",
    "    subjects=[\"Math\", \"Science\", \"English\", \"History\", \"Geography\"]\n",
    "    marks=[]\n",
    "    for subject in subjects :\n",
    "        mark=float(input(f\"Enter the marks for {subject}: \"))\n",
    "        marks.append(mark)\n",
    "    return marks\n",
    "\n",
    "def display_marks(marks):\n",
    "    subjects=[\"Math\", \"Science\", \"English\", \"History\", \"Geography\"]\n",
    "    for subject,mark in zip(subjects,marks):\n",
    "        print(f\" {subject} : {mark} \")\n",
    "\n",
    "marks=input_marks()\n",
    "print(\"Marks in each subject \\n\")\n",
    "display_marks(marks)"
   ]
  },
  {
   "cell_type": "code",
   "execution_count": 11,
   "id": "937246f2-4fdc-4930-a5b1-da577ec2b370",
   "metadata": {},
   "outputs": [
    {
     "name": "stdout",
     "output_type": "stream",
     "text": [
      "Total Marks is: 351.0\n",
      "Percentage is: 70.2\n"
     ]
    }
   ],
   "source": [
    "# -> Calculate the sum of the marks of all subjects.Divide the total marks by number of subjects (i.e. 5), calculate\n",
    "#    Percentage = total marks/5 and disTlay the Percentage.\n",
    "\n",
    "def calculate_marks(marks):\n",
    "    total_marks=sum(marks)\n",
    "    total_subjects=len(marks)\n",
    "    percentage=(total_marks/total_subjects)\n",
    "    return total_marks,percentage\n",
    "\n",
    "total_marks,percentage=calculate_marks(marks)\n",
    "\n",
    "print(f\"Total Marks is: {total_marks}\")\n",
    "print(f\"Percentage is: {percentage}\")"
   ]
  },
  {
   "cell_type": "code",
   "execution_count": 17,
   "id": "73205bf4-57bf-40cc-8a01-d2b4eafcd2cb",
   "metadata": {},
   "outputs": [
    {
     "name": "stdout",
     "output_type": "stream",
     "text": [
      "Grade: C\n"
     ]
    }
   ],
   "source": [
    "# -> Find the grade of the student as Ter the following criteria . Hint: Use Match & case for this.:\n",
    "\n",
    "'''Percentage > 85               Grade A\n",
    "75 <= Percentage < 85         Grade B\n",
    "50 <= Percentage < 75         Grade C\n",
    "30 <= Percentage < 50         Grade D\n",
    "Percentage <30                Reappear'''\n",
    "\n",
    "\n",
    "def determine_grade(percentage):\n",
    "    match percentage:\n",
    "        case percentage if percentage >= 85:\n",
    "            return 'A'\n",
    "        case percentage if 75<=percentage < 85:\n",
    "            return 'B'\n",
    "        case percentage if 50 <= percentage < 75:\n",
    "            return 'C'\n",
    "        case percentage if 30<= percentage < 50:\n",
    "            return 'D'\n",
    "        case percentage if percentage < 30:\n",
    "            return 'Reappear'\n",
    "        case _:\n",
    "            return 'invalid please check again'\n",
    "\n",
    "grade = determine_grade(percentage)\n",
    "print(f\"Grade: {grade}\")"
   ]
  },
  {
   "cell_type": "code",
   "execution_count": null,
   "id": "6e2fb8a9-8c0a-40e4-9df6-183e1b0107ca",
   "metadata": {},
   "outputs": [],
   "source": []
  }
 ],
 "metadata": {
  "kernelspec": {
   "display_name": "Python 3 (ipykernel)",
   "language": "python",
   "name": "python3"
  },
  "language_info": {
   "codemirror_mode": {
    "name": "ipython",
    "version": 3
   },
   "file_extension": ".py",
   "mimetype": "text/x-python",
   "name": "python",
   "nbconvert_exporter": "python",
   "pygments_lexer": "ipython3",
   "version": "3.12.4"
  }
 },
 "nbformat": 4,
 "nbformat_minor": 5
}
