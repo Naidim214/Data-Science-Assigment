{
 "cells": [
  {
   "cell_type": "code",
   "execution_count": 1,
   "id": "8e235480-8951-46a2-9977-a52e732c5ea7",
   "metadata": {},
   "outputs": [
    {
     "data": {
      "text/plain": [
       "'\\n18. Create a Python script that reads a text file named \"expenses.txt\" and calculates the total amount spent\\non various expenses listed in the file.\\n'"
      ]
     },
     "execution_count": 1,
     "metadata": {},
     "output_type": "execute_result"
    }
   ],
   "source": [
    "\"\"\"\n",
    "18. Create a Python script that reads a text file named \"expenses.txt\" and calculates the total amount spent\n",
    "on various expenses listed in the file.\n",
    "\"\"\""
   ]
  },
  {
   "cell_type": "code",
   "execution_count": 7,
   "id": "7773a8ce-4d43-4408-848c-efb2b2bc4e09",
   "metadata": {},
   "outputs": [
    {
     "name": "stdout",
     "output_type": "stream",
     "text": [
      "Total amount spent: $1161.00\n"
     ]
    }
   ],
   "source": [
    "def calculate_total_expenses():\n",
    "    total_expense = 0.0\n",
    "\n",
    "    try:\n",
    "        # Open the file in read mode\n",
    "        with open(\"expenses.txt\", \"r\") as file:\n",
    "            # Process each line in the file\n",
    "            for line in file:\n",
    "                # Strip any leading/trailing whitespace and split by spaces\n",
    "                expense = line.strip().split()\n",
    "                \n",
    "                # The last item is assumed to be the expense amount\n",
    "                if expense and expense[-1].replace('.', '', 1).isdigit():\n",
    "                    total_expense += float(expense[-1])\n",
    "\n",
    "        # Print the total amount spent\n",
    "        print(f\"Total amount spent: ${total_expense:.2f}\")\n",
    "\n",
    "    except FileNotFoundError:\n",
    "        print(\"The file 'expenses.txt' does not exist.\")\n",
    "    except Exception as e:\n",
    "        print(f\"An error occurred: {e}\")\n",
    "\n",
    "# Call the function to calculate and display the total expenses\n",
    "calculate_total_expenses()\n"
   ]
  },
  {
   "cell_type": "code",
   "execution_count": null,
   "id": "145c6e4b-99e5-4a2b-8513-9170a3b05e89",
   "metadata": {},
   "outputs": [],
   "source": []
  }
 ],
 "metadata": {
  "kernelspec": {
   "display_name": "Python 3 (ipykernel)",
   "language": "python",
   "name": "python3"
  },
  "language_info": {
   "codemirror_mode": {
    "name": "ipython",
    "version": 3
   },
   "file_extension": ".py",
   "mimetype": "text/x-python",
   "name": "python",
   "nbconvert_exporter": "python",
   "pygments_lexer": "ipython3",
   "version": "3.12.4"
  }
 },
 "nbformat": 4,
 "nbformat_minor": 5
}
