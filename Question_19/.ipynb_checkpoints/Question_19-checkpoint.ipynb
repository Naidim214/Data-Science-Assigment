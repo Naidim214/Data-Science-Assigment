{
 "cells": [
  {
   "cell_type": "code",
   "execution_count": null,
   "id": "f81f6663-4e55-432f-a435-fb53787637ec",
   "metadata": {},
   "outputs": [],
   "source": [
    "from collections import Counter\n",
    "import string\n",
    "\n",
    "def count_words_in_paragraph():\n",
    "    try:\n",
    "        # Open the file in read mode\n",
    "        with open(\"paragraph.txt\", \"r\") as file:\n",
    "            # Read the entire content of the file\n",
    "            text = file.read()\n",
    "            \n",
    "            # Convert all text to lowercase and remove punctuation\n",
    "            text = text.lower().translate(str.maketrans(\"\", \"\", string.punctuation))\n",
    "            \n",
    "            # Split the text into words\n",
    "            words = text.split()\n",
    "            \n",
    "            # Count the occurrences of each word\n",
    "            word_count = Counter(words)\n",
    "            \n",
    "            # Sort the dictionary by keys (words) alphabetically\n",
    "            for word in sorted(word_count):\n",
    "                print(f\"{word}: {word_count[word]}\")\n",
    "\n",
    "    except FileNotFoundError:\n",
    "        print(\"The file 'paragraph.txt' does not exist.\")\n",
    "    except Exception as e:\n",
    "        print(f\"An error occurred: {e}\")\n",
    "\n",
    "# Call the function to count and display word occurrences\n",
    "count_words_in_paragraph()\n"
   ]
  }
 ],
 "metadata": {
  "kernelspec": {
   "display_name": "Python 3 (ipykernel)",
   "language": "python",
   "name": "python3"
  },
  "language_info": {
   "codemirror_mode": {
    "name": "ipython",
    "version": 3
   },
   "file_extension": ".py",
   "mimetype": "text/x-python",
   "name": "python",
   "nbconvert_exporter": "python",
   "pygments_lexer": "ipython3",
   "version": "3.12.4"
  }
 },
 "nbformat": 4,
 "nbformat_minor": 5
}
