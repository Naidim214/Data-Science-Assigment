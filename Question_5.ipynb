{
 "cells": [
  {
   "cell_type": "code",
   "execution_count": 1,
   "id": "1070300d-dc50-488b-969b-5f547386d9f7",
   "metadata": {},
   "outputs": [
    {
     "data": {
      "text/plain": [
       "'\\n5.Write a Python program that models different animals and their sounds. Design a base class called\\n`Animal` with a method `mae_sound()`. Create subclasses lie `Dog` and `Cat` that override the\\n`mae_sound()` method to produce appropriate sounds.\\nTasks\\n 1. Define the `Animal` class with a method `make_sound()`\\n 2. Create subclasses `Dog` and `Cat` that override the `make_sound()` method\\n 3. Implement the sound generation logic for each subclass\\n 4. Test the program by creating instances of `Dog` and `Cat` and calling the `make_sound()` method.\\n'"
      ]
     },
     "execution_count": 1,
     "metadata": {},
     "output_type": "execute_result"
    }
   ],
   "source": [
    "\"\"\"\n",
    "5.Write a Python program that models different animals and their sounds. Design a base class called\n",
    "`Animal` with a method `mae_sound()`. Create subclasses lie `Dog` and `Cat` that override the\n",
    "`mae_sound()` method to produce appropriate sounds.\n",
    "Tasks\n",
    " 1. Define the `Animal` class with a method `make_sound()`\n",
    " 2. Create subclasses `Dog` and `Cat` that override the `make_sound()` method\n",
    " 3. Implement the sound generation logic for each subclass\n",
    " 4. Test the program by creating instances of `Dog` and `Cat` and calling the `make_sound()` method.\n",
    "\"\"\""
   ]
  },
  {
   "cell_type": "code",
   "execution_count": 3,
   "id": "d94d3b46-ea40-4a01-ba90-5bdc7b71b5b8",
   "metadata": {},
   "outputs": [],
   "source": [
    "#  1. Define the `Animal` class with a method `make_sound()`\n",
    "class Animal:\n",
    "    def make_sound(self):\n",
    "        raise NotImplementedError(\"Subclasses must implement this method\")\n"
   ]
  },
  {
   "cell_type": "code",
   "execution_count": 5,
   "id": "75484a09-2908-47c5-9551-5df99c7d816f",
   "metadata": {},
   "outputs": [],
   "source": [
    "#   2. Create subclasses `Dog` and `Cat` that override the `make_sound()` method\n",
    "#   3. Implement the sound generation logic for each subclass\n",
    "class Dog(Animal):\n",
    "    def make_sound(self):\n",
    "        return \"Woof!\"\n",
    "\n",
    "class Cat(Animal):\n",
    "    def make_sound(self):\n",
    "        return \"Meow!\"\n",
    "\n",
    "\n"
   ]
  },
  {
   "cell_type": "code",
   "execution_count": 7,
   "id": "a544a013-a6b8-47c5-843c-02acbfdc5533",
   "metadata": {},
   "outputs": [
    {
     "name": "stdout",
     "output_type": "stream",
     "text": [
      "Dog sound: Woof!\n",
      "Cat sound: Meow!\n"
     ]
    }
   ],
   "source": [
    "# 4. Test the program by creating instances of `Dog` and `Cat` and calling the `make_sound()` method.\n",
    "# Testing the program\n",
    "if __name__ == \"__main__\":\n",
    "    # Creating instances of Dog and Cat\n",
    "    dog = Dog()\n",
    "    cat = Cat()\n",
    "\n",
    "    # Calling the make_sound method for each instance\n",
    "    print(\"Dog sound:\", dog.make_sound())\n",
    "    print(\"Cat sound:\", cat.make_sound())"
   ]
  },
  {
   "cell_type": "code",
   "execution_count": null,
   "id": "82343d11-d5aa-44d6-95bc-5d2d406aa21e",
   "metadata": {},
   "outputs": [],
   "source": []
  }
 ],
 "metadata": {
  "kernelspec": {
   "display_name": "Python 3 (ipykernel)",
   "language": "python",
   "name": "python3"
  },
  "language_info": {
   "codemirror_mode": {
    "name": "ipython",
    "version": 3
   },
   "file_extension": ".py",
   "mimetype": "text/x-python",
   "name": "python",
   "nbconvert_exporter": "python",
   "pygments_lexer": "ipython3",
   "version": "3.12.4"
  }
 },
 "nbformat": 4,
 "nbformat_minor": 5
}
