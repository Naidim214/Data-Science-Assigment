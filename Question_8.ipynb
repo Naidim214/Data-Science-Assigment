{
 "cells": [
  {
   "cell_type": "code",
   "execution_count": 5,
   "id": "3ec22b34-c894-4635-8fd1-942acfe3be9c",
   "metadata": {},
   "outputs": [
    {
     "data": {
      "text/plain": [
       "\"\\n8.Write a code for Fitness Club Management System using OOPS:\\n& Create a Member class that has attributes such as name, age, membership type, and membership status\\n(private)\\n& Implement methods to register a new member, renew a membership, and cancel a membership\\n& Use encapsulation to hide the member's unique identification number\\n& Inherit from the Member class to create a FamilyMember class and an IndividualMember class, each with\\ntheir own specific attributes and methods\\n\""
      ]
     },
     "execution_count": 5,
     "metadata": {},
     "output_type": "execute_result"
    }
   ],
   "source": [
    "\"\"\"\n",
    "8.Write a code for Fitness Club Management System using OOPS:\n",
    "& Create a Member class that has attributes such as name, age, membership type, and membership status\n",
    "(private)\n",
    " Implement methods to register a new member, renew a membership, and cancel a membership\n",
    " Use encapsulation to hide the member's unique identification number\n",
    " Inherit from the Member class to create a FamilyMember class and an IndividualMember class, each with\n",
    "their own specific attributes and methods\n",
    "\"\"\""
   ]
  },
  {
   "cell_type": "code",
   "execution_count": 7,
   "id": "93ddd77e-4b28-4c4d-9c20-f3f86491c770",
   "metadata": {},
   "outputs": [
    {
     "name": "stdout",
     "output_type": "stream",
     "text": [
      "Member ID: 0, Name: John Doe, Age: 40, Membership Type: Family, Status: Active, Family Size: 4\n",
      "Member ID: 1, Name: Jane Doe, Age: 30, Membership Type: Individual, Status: Active, Personal Trainer: Yes\n",
      "Member 0: John Doe registered successfully with Family membership.\n",
      "Member 0: John Doe's membership has been renewed.\n",
      "Member 0: John Doe's membership has been cancelled.\n",
      "Member 1: Jane Doe registered successfully with Individual membership.\n",
      "Member 1: Jane Doe's membership has been renewed.\n",
      "Member 1: Jane Doe's membership has been cancelled.\n"
     ]
    }
   ],
   "source": [
    "#Create a Member class that has attributes such as name, age, membership type, and membership status\n",
    "#(private)\n",
    "   \n",
    "class Member:\n",
    "    _id_counter = 0\n",
    "\n",
    "    def __init__(self, name, age, membership_type):\n",
    "        self.__member_id = Member._id_counter\n",
    "        Member._id_counter += 1\n",
    "        self.name = name\n",
    "        self.age = age\n",
    "        self.membership_type = membership_type\n",
    "        self.__membership_status = \"Active\"\n",
    "\n",
    "    @property\n",
    "    def member_id(self):\n",
    "        return self.__member_id\n",
    "\n",
    "    @property\n",
    "    def membership_status(self):\n",
    "        return self.__membership_status\n",
    "\n",
    "    def register_member(self):\n",
    "        print(f\"Member {self.__member_id}: {self.name} registered successfully with {self.membership_type} membership.\")\n",
    "\n",
    "    def renew_membership(self):\n",
    "        self.__membership_status = \"Renewed\"\n",
    "        print(f\"Member {self.__member_id}: {self.name}'s membership has been renewed.\")\n",
    "\n",
    "    def cancel_membership(self):\n",
    "        self.__membership_status = \"Cancelled\"\n",
    "        print(f\"Member {self.__member_id}: {self.name}'s membership has been cancelled.\")\n",
    "\n",
    "    def __str__(self):\n",
    "        return f\"Member ID: {self.__member_id}, Name: {self.name}, Age: {self.age}, Membership Type: {self.membership_type}, Status: {self.__membership_status}\"\n",
    "\n",
    "\n",
    "# Inherit from the Member class to create a FamilyMember class and an IndividualMember class, each with\n",
    "# their own specific attributes and metho\n",
    "\n",
    "\n",
    "class FamilyMember(Member):\n",
    "    def __init__(self, name, age, membership_type, family_size):\n",
    "        super().__init__(name, age, membership_type)\n",
    "        self.family_size = family_size\n",
    "\n",
    "    def __str__(self):\n",
    "        return f\"{super().__str__()}, Family Size: {self.family_size}\"\n",
    "\n",
    "\n",
    "class IndividualMember(Member):\n",
    "    def __init__(self, name, age, membership_type, personal_trainer=False):\n",
    "        super().__init__(name, age, membership_type)\n",
    "        self.personal_trainer = personal_trainer\n",
    "\n",
    "    def __str__(self):\n",
    "        return f\"{super().__str__()}, Personal Trainer: {'Yes' if self.personal_trainer else 'No'}\"\n",
    "\n",
    "\n",
    "# Testing the system\n",
    "if __name__ == \"__main__\":\n",
    "    family_member = FamilyMember(\"John Doe\", 40, \"Family\", 4)\n",
    "    individual_member = IndividualMember(\"Jane Doe\", 30, \"Individual\", True)\n",
    "\n",
    "    print(family_member)\n",
    "    print(individual_member)\n",
    "\n",
    "    family_member.register_member()\n",
    "    family_member.renew_membership()\n",
    "    family_member.cancel_membership()\n",
    "\n",
    "    individual_member.register_member()\n",
    "    individual_member.renew_membership()\n",
    "    individual_member.cancel_membership()\n"
   ]
  },
  {
   "cell_type": "code",
   "execution_count": null,
   "id": "95a55550-6fbb-4383-860a-2a73938987aa",
   "metadata": {},
   "outputs": [],
   "source": []
  }
 ],
 "metadata": {
  "kernelspec": {
   "display_name": "Python 3 (ipykernel)",
   "language": "python",
   "name": "python3"
  },
  "language_info": {
   "codemirror_mode": {
    "name": "ipython",
    "version": 3
   },
   "file_extension": ".py",
   "mimetype": "text/x-python",
   "name": "python",
   "nbconvert_exporter": "python",
   "pygments_lexer": "ipython3",
   "version": "3.12.4"
  }
 },
 "nbformat": 4,
 "nbformat_minor": 5
}
