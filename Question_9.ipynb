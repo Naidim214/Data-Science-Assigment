{
 "cells": [
  {
   "cell_type": "code",
   "execution_count": 1,
   "id": "6fded37e-283e-4c57-8edc-5762e1ebc989",
   "metadata": {},
   "outputs": [
    {
     "data": {
      "text/plain": [
       "\"\\n9.Write a code for Event Management System using OO4S3\\n Create an Event class that has attributes such as name, date, time, location, and list of attendees (private)\\n Implement methods to create a new event, add or remove attendees, and get the total number of\\nattendees\\n Use encapsulation to hide the event's unique identification number\\n Inherit from the Event class to create a PrivateEvent class and a PublicEvent class, each with their own\\nspecific attributes and methods.\\n\""
      ]
     },
     "execution_count": 1,
     "metadata": {},
     "output_type": "execute_result"
    }
   ],
   "source": [
    "\"\"\"\n",
    "9.Write a code for Event Management System using OO4S3\n",
    " Create an Event class that has attributes such as name, date, time, location, and list of attendees (private)\n",
    " Implement methods to create a new event, add or remove attendees, and get the total number of\n",
    "attendees\n",
    " Use encapsulation to hide the event's unique identification number\n",
    " Inherit from the Event class to create a PrivateEvent class and a PublicEvent class, each with their own\n",
    "specific attributes and methods.\n",
    "\"\"\""
   ]
  },
  {
   "cell_type": "code",
   "execution_count": 37,
   "id": "e02c37c1-59ff-449d-a578-b3848e0e43c2",
   "metadata": {},
   "outputs": [],
   "source": [
    "import datetime\n",
    "\n",
    "class Event:\n",
    "\n",
    "    _id_counter=1\n",
    "    def __init__(self,name,date,time,location):\n",
    "        self._id=Event._id_counter\n",
    "        Event._id_counter+=1\n",
    "        self.name=name\n",
    "        self.date=date\n",
    "        self.time=time\n",
    "        self.location=location\n",
    "        self.__attendees=[]\n",
    "\n",
    "    def add_attendee(self,attendee):\n",
    "        self.__attendees.append(attendee)\n",
    "\n",
    "    def remove_attendee(self,attendee):\n",
    "        if attendee in self.__attendees:\n",
    "            self.__attendees.remove(attendee)\n",
    "\n",
    "    def get_total_attendees(self):\n",
    "        return len(self.__attendees)\n",
    "\n",
    "    def __str__(self):\n",
    "        return f\"Event '{self.name}' at {self.location} on {self.date} at {self.time}\"\n",
    "\n",
    "class PrivateEvent(Event):\n",
    "    def __init__(self,name,date,time,location,invite_only):\n",
    "        super().__init__(name,date,time,location)\n",
    "        self.invite_only=invite_only\n",
    "\n",
    "    def __str__(self):\n",
    "        return f\"Private {super().__str__()} (Invite Only: {self.invite_only})\"\n",
    "\n",
    "\n",
    "class PublicEvent(Event):\n",
    "    def __init__(self,name,date,time,location,max_capacity):\n",
    "        super().__init__(name,date,time,location)\n",
    "        self.max_capacity=max_capacity\n",
    "\n",
    "    def is_full(self):\n",
    "        return self.get_total_attendees() >= self.max_capacity\n",
    "\n",
    "    def __str__(self):\n",
    "        return f'Public {super().__str__()} (Max Capacity: {self.max_capacity})'\n",
    "\n",
    "\n",
    "\n"
   ]
  },
  {
   "cell_type": "code",
   "execution_count": 39,
   "id": "a43f130a-9a63-4973-8e54-2cd6a0d65766",
   "metadata": {},
   "outputs": [],
   "source": [
    "event1=Event('Company Meetting',\"2024-08-15\",\"10.00AM\",\"Conference Room\")"
   ]
  },
  {
   "cell_type": "code",
   "execution_count": 41,
   "id": "7d357dd8-5681-46da-84a9-b7cb51958aef",
   "metadata": {},
   "outputs": [],
   "source": [
    "event1.add_attendee('Alice')"
   ]
  },
  {
   "cell_type": "code",
   "execution_count": 43,
   "id": "41242af2-7789-4269-a2a2-95f51ed8dc06",
   "metadata": {},
   "outputs": [],
   "source": [
    "event1.add_attendee('Bob')"
   ]
  },
  {
   "cell_type": "code",
   "execution_count": 45,
   "id": "bc505e9b-2b1e-468c-b288-76863cff83db",
   "metadata": {},
   "outputs": [
    {
     "name": "stdout",
     "output_type": "stream",
     "text": [
      "Event 'Company Meetting' at Conference Room on 2024-08-15 at 10.00AM\n"
     ]
    }
   ],
   "source": [
    "print(event1)"
   ]
  },
  {
   "cell_type": "code",
   "execution_count": 47,
   "id": "b331ae93-648b-466c-bf64-0b6f5fbdbfe5",
   "metadata": {},
   "outputs": [
    {
     "name": "stdout",
     "output_type": "stream",
     "text": [
      "Total Attendees: 2\n"
     ]
    }
   ],
   "source": [
    "print(\"Total Attendees:\",event1.get_total_attendees())\n"
   ]
  },
  {
   "cell_type": "code",
   "execution_count": 49,
   "id": "3abb29e2-a58b-4bdb-bbd8-0d575e47c1ef",
   "metadata": {},
   "outputs": [],
   "source": [
    "private_event=PrivateEvent(\"Board Meeting\",\"2024-08-20\",\"2:00PM\",\"Board Room\",True)"
   ]
  },
  {
   "cell_type": "code",
   "execution_count": 51,
   "id": "546b3aa7-8a49-4c6d-86c6-a44dc6baeb16",
   "metadata": {},
   "outputs": [],
   "source": [
    "private_event.add_attendee(\"CEO\")\n"
   ]
  },
  {
   "cell_type": "code",
   "execution_count": 53,
   "id": "7c91c923-b5b3-4102-9869-c8aea7b7caa1",
   "metadata": {},
   "outputs": [],
   "source": [
    "private_event.add_attendee(\"CFO\")"
   ]
  },
  {
   "cell_type": "code",
   "execution_count": 55,
   "id": "b9418268-099d-4d51-9c90-ced364a13abe",
   "metadata": {},
   "outputs": [
    {
     "name": "stdout",
     "output_type": "stream",
     "text": [
      "Private Event 'Board Meeting' at Board Room on 2024-08-20 at 2:00PM (Invite Only: True)\n"
     ]
    }
   ],
   "source": [
    "print(private_event)"
   ]
  },
  {
   "cell_type": "code",
   "execution_count": 57,
   "id": "ede92370-f38f-4aa6-8f6c-dc85cf492ac0",
   "metadata": {},
   "outputs": [
    {
     "name": "stdout",
     "output_type": "stream",
     "text": [
      "Total Attendees: 2\n"
     ]
    }
   ],
   "source": [
    "print(\"Total Attendees:\",private_event.get_total_attendees())\n",
    "\n"
   ]
  },
  {
   "cell_type": "code",
   "execution_count": 59,
   "id": "04b1ae12-b5d7-4223-af3c-4424fd8ac3a2",
   "metadata": {},
   "outputs": [],
   "source": [
    "public_event = PublicClass(\"Tech Conference\", \"2024-09-01\", \"9:00 AM\", \"Convention Center\", 100)\n",
    "public_event.add_attendee(\"Developer1\")\n",
    "public_event.add_attendee(\"Developer2\")"
   ]
  },
  {
   "cell_type": "code",
   "execution_count": 61,
   "id": "183e39e6-a1f6-41f0-8de0-620851d68315",
   "metadata": {},
   "outputs": [
    {
     "name": "stdout",
     "output_type": "stream",
     "text": [
      "Public Event 'Tech Conference' at Convention Center on 2024-09-01 at 9:00 AM (Max Capacity: 100)\n",
      "Total Attendees: 2\n",
      "Is Full: False\n"
     ]
    }
   ],
   "source": [
    "print(public_event)\n",
    "print(\"Total Attendees:\", public_event.get_total_attendees())\n",
    "print(\"Is Full:\", public_event.is_full())"
   ]
  },
  {
   "cell_type": "code",
   "execution_count": null,
   "id": "d7d42f90-16bb-4db6-a6e6-4be6021b69bd",
   "metadata": {},
   "outputs": [],
   "source": []
  },
  {
   "cell_type": "code",
   "execution_count": null,
   "id": "4349290f-2afd-4086-a772-840f68ed218d",
   "metadata": {},
   "outputs": [],
   "source": []
  },
  {
   "cell_type": "code",
   "execution_count": null,
   "id": "aa1b4165-bbca-47e9-8fcd-bba3f49c9fb1",
   "metadata": {},
   "outputs": [],
   "source": []
  }
 ],
 "metadata": {
  "kernelspec": {
   "display_name": "Python 3 (ipykernel)",
   "language": "python",
   "name": "python3"
  },
  "language_info": {
   "codemirror_mode": {
    "name": "ipython",
    "version": 3
   },
   "file_extension": ".py",
   "mimetype": "text/x-python",
   "name": "python",
   "nbconvert_exporter": "python",
   "pygments_lexer": "ipython3",
   "version": "3.12.4"
  }
 },
 "nbformat": 4,
 "nbformat_minor": 5
}
