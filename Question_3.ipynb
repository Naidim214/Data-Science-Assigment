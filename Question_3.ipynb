{
 "cells": [
  {
   "cell_type": "code",
   "execution_count": 1,
   "id": "4e5d79ce-41dd-4484-b4c9-648b6bc05c68",
   "metadata": {},
   "outputs": [
    {
     "data": {
      "text/plain": [
       "'\\n3.Develop a Python program for managing library resources efficiently. Design a class named `LibraryBoo`\\nwith attributes lie boo name, author, and availability status. Implement methods for borrowing and\\nreturning boos while ensuring proper encapsulation of attributes.\\nTasks\\n 1. Create the `LibraryBook` class with encapsulated attributes\\n 2. Implement methods for borrowing and returning books\\n 3. Ensure proper encapsulation to protect book details\\n 4. Test the borrowing and returning functionality with sample data.\\n'"
      ]
     },
     "execution_count": 1,
     "metadata": {},
     "output_type": "execute_result"
    }
   ],
   "source": [
    "\"\"\"\n",
    "3.Develop a Python program for managing library resources efficiently. Design a class named `LibraryBoo`\n",
    "with attributes lie boo name, author, and availability status. Implement methods for borrowing and\n",
    "returning boos while ensuring proper encapsulation of attributes.\n",
    "Tasks\n",
    " 1. Create the `LibraryBook` class with encapsulated attributes\n",
    " 2. Implement methods for borrowing and returning books\n",
    " 3. Ensure proper encapsulation to protect book details\n",
    " 4. Test the borrowing and returning functionality with sample data.\n",
    "\"\"\""
   ]
  },
  {
   "cell_type": "code",
   "execution_count": 3,
   "id": "c3ed3fea-3fa5-44f2-96fa-ecaf3e20645c",
   "metadata": {},
   "outputs": [
    {
     "name": "stdout",
     "output_type": "stream",
     "text": [
      "Book 1 Information:\n",
      "Book Name: 1984\n",
      "Author: George Orwell\n",
      "Availability: Available\n",
      "\n",
      "Book 2 Information:\n",
      "Book Name: To Kill a Mockingbird\n",
      "Author: Harper Lee\n",
      "Availability: Available\n",
      "\n",
      "Borrowing Book 1:\n",
      "The book '1984' has been borrowed.\n",
      "\n",
      "Borrowing Book 1 Again:\n",
      "Sorry, the book '1984' is currently unavailable.\n",
      "\n",
      "Returning Book 1:\n",
      "The book '1984' has been returned.\n",
      "\n",
      "Returning Book 1 Again:\n",
      "The book '1984' was not borrowed.\n",
      "\n",
      "Updated Book 1 Information:\n",
      "Book Name: 1984\n",
      "Author: George Orwell\n",
      "Availability: Available\n",
      "\n",
      "Updated Book 2 Information:\n",
      "Book Name: To Kill a Mockingbird\n",
      "Author: Harper Lee\n",
      "Availability: Available\n"
     ]
    }
   ],
   "source": [
    "#   1. Create the `LibraryBook` class with encapsulated attributes\n",
    "#   3. Ensure proper encapsulation to protect book details\n",
    "class LibraryBook:\n",
    "    def __init__(self, book_name, author):\n",
    "        self.__book_name = book_name\n",
    "        self.__author = author\n",
    "        self.__is_available = True\n",
    "\n",
    "    # Getter methods\n",
    "    def get_book_name(self):\n",
    "        return self.__book_name\n",
    "\n",
    "    def get_author(self):\n",
    "        return self.__author\n",
    "\n",
    "    def is_available(self):\n",
    "        return self.__is_available\n",
    "# 2. Implement methods for borrowing and returning books\n",
    "\n",
    "    # Method to borrow a book\n",
    "    def borrow_book(self):\n",
    "        if self.__is_available:\n",
    "            self.__is_available = False\n",
    "            print(f\"The book '{self.__book_name}' has been borrowed.\")\n",
    "        else:\n",
    "            print(f\"Sorry, the book '{self.__book_name}' is currently unavailable.\")\n",
    "\n",
    "    # Method to return a book\n",
    "    def return_book(self):\n",
    "        if not self.__is_available:\n",
    "            self.__is_available = True\n",
    "            print(f\"The book '{self.__book_name}' has been returned.\")\n",
    "        else:\n",
    "            print(f\"The book '{self.__book_name}' was not borrowed.\")\n",
    "\n",
    "\n",
    "    # Method to display book details\n",
    "    def display_info(self):\n",
    "        availability = \"Available\" if self.__is_available else \"Not Available\"\n",
    "        print(f\"Book Name: {self.__book_name}\")\n",
    "        print(f\"Author: {self.__author}\")\n",
    "        print(f\"Availability: {availability}\")\n",
    "\n",
    "\n",
    "#   4. Test the borrowing and returning functionality with sample data.\n",
    "\n",
    "# Testing the functionality\n",
    "if __name__ == \"__main__\":\n",
    "    # Creating instances of the LibraryBook class\n",
    "    book1 = LibraryBook(\"1984\", \"George Orwell\")\n",
    "    book2 = LibraryBook(\"To Kill a Mockingbird\", \"Harper Lee\")\n",
    "\n",
    "    # Displaying initial information\n",
    "    print(\"Book 1 Information:\")\n",
    "    book1.display_info()\n",
    "    print(\"\\nBook 2 Information:\")\n",
    "    book2.display_info()\n",
    "\n",
    "    # Borrowing books\n",
    "    print(\"\\nBorrowing Book 1:\")\n",
    "    book1.borrow_book()\n",
    "    print(\"\\nBorrowing Book 1 Again:\")\n",
    "    book1.borrow_book()\n",
    "\n",
    "    # Returning books\n",
    "    print(\"\\nReturning Book 1:\")\n",
    "    book1.return_book()\n",
    "    print(\"\\nReturning Book 1 Again:\")\n",
    "    book1.return_book()\n",
    "\n",
    "    # Displaying updated information\n",
    "    print(\"\\nUpdated Book 1 Information:\")\n",
    "    book1.display_info()\n",
    "    print(\"\\nUpdated Book 2 Information:\")\n",
    "    book2.display_info()"
   ]
  },
  {
   "cell_type": "code",
   "execution_count": null,
   "id": "4776fa61-b79b-46fa-8c8d-6e97d2863ae5",
   "metadata": {},
   "outputs": [],
   "source": []
  },
  {
   "cell_type": "code",
   "execution_count": null,
   "id": "d1c9fbc8-a5fd-4227-964d-c94279e10793",
   "metadata": {},
   "outputs": [],
   "source": []
  }
 ],
 "metadata": {
  "kernelspec": {
   "display_name": "Python 3 (ipykernel)",
   "language": "python",
   "name": "python3"
  },
  "language_info": {
   "codemirror_mode": {
    "name": "ipython",
    "version": 3
   },
   "file_extension": ".py",
   "mimetype": "text/x-python",
   "name": "python",
   "nbconvert_exporter": "python",
   "pygments_lexer": "ipython3",
   "version": "3.12.4"
  }
 },
 "nbformat": 4,
 "nbformat_minor": 5
}
