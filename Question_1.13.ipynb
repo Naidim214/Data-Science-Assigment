{
 "cells": [
  {
   "cell_type": "code",
   "execution_count": 1,
   "id": "bd66d1e1-aceb-4688-ba63-5c16250a9efa",
   "metadata": {},
   "outputs": [
    {
     "data": {
      "text/plain": [
       "'\\n1.13. Write a program for VIBGYOR Spectrum based on their Wavelength using.\\nWavelength Range:\\n'"
      ]
     },
     "execution_count": 1,
     "metadata": {},
     "output_type": "execute_result"
    }
   ],
   "source": [
    "\"\"\"\n",
    "1.13. Write a program for VIBGYOR Spectrum based on their Wavelength using.\n",
    "Wavelength Range:\n",
    "\"\"\""
   ]
  },
  {
   "cell_type": "code",
   "execution_count": 3,
   "id": "2541dd6a-d1d8-4a33-b635-3bcd97eeea39",
   "metadata": {},
   "outputs": [
    {
     "name": "stdin",
     "output_type": "stream",
     "text": [
      "Enter the wavelength in nm:  618\n"
     ]
    },
    {
     "name": "stdout",
     "output_type": "stream",
     "text": [
      "The color corresponding to the wavelength 618.0 nm is Orange.\n"
     ]
    }
   ],
   "source": [
    "def find_vibgyor_color(wavelength):\n",
    "    if 400.0 <= wavelength < 440.0:\n",
    "        return \"Violet\"\n",
    "    elif 440.0 <= wavelength < 460.0:\n",
    "        return \"Indigo\"\n",
    "    elif 460.0 <= wavelength < 500.0:\n",
    "        return \"Blue\"\n",
    "    elif 500.0 <= wavelength < 570.0:\n",
    "        return \"Green\"\n",
    "    elif 570.0 <= wavelength < 590.0:\n",
    "        return \"Yellow\"\n",
    "    elif 590.0 <= wavelength < 620.0:\n",
    "        return \"Orange\"\n",
    "    elif 620.0 <= wavelength <= 720.0:\n",
    "        return \"Red\"\n",
    "    else:\n",
    "        return \"Wavelength out of range for VIBGYOR spectrum\"\n",
    "\n",
    "\n",
    "wavelength = float(input(\"Enter the wavelength in nm: \"))\n",
    "color = find_vibgyor_color(wavelength)\n",
    "print(f\"The color corresponding to the wavelength {wavelength} nm is {color}.\")\n"
   ]
  },
  {
   "cell_type": "code",
   "execution_count": null,
   "id": "69dff3ff-319f-4c73-8ca3-b21d10db67d6",
   "metadata": {},
   "outputs": [],
   "source": []
  }
 ],
 "metadata": {
  "kernelspec": {
   "display_name": "Python 3 (ipykernel)",
   "language": "python",
   "name": "python3"
  },
  "language_info": {
   "codemirror_mode": {
    "name": "ipython",
    "version": 3
   },
   "file_extension": ".py",
   "mimetype": "text/x-python",
   "name": "python",
   "nbconvert_exporter": "python",
   "pygments_lexer": "ipython3",
   "version": "3.12.4"
  }
 },
 "nbformat": 4,
 "nbformat_minor": 5
}
