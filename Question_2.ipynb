{
 "cells": [
  {
   "cell_type": "code",
   "execution_count": 1,
   "id": "8eb212c7-ec44-4854-8910-879916d9b202",
   "metadata": {},
   "outputs": [
    {
     "data": {
      "text/plain": [
       "'\\n4. Design and implement a Python program for managing student information using object-oriented\\nprinciples. Create a class called `Student` with encapsulated attributes for name, age, and roll number.\\nImplement getter and setter methods for these attributes. Additionally, provide methods to display student\\ninformation and update student details.\\nTasks\\n3 Define the `Student` class with encapsulated attributes\\n3 Implement getter and setter methods for the attributes\\n3 Write methods to display student information and update details\\n3 Create instances of the `Student` class and test the implemented functionality\\n\\n'"
      ]
     },
     "execution_count": 1,
     "metadata": {},
     "output_type": "execute_result"
    }
   ],
   "source": [
    "\"\"\"\n",
    "2. Design and implement a Python program for managing student information using object-oriented\n",
    "principles. Create a class called `Student` with encapsulated attributes for name, age, and roll number.\n",
    "Implement getter and setter methods for these attributes. Additionally, provide methods to display student\n",
    "information and update student details.\n",
    "Tasks\n",
    "3 Define the `Student` class with encapsulated attributes\n",
    "3 Implement getter and setter methods for the attributes\n",
    "3 Write methods to display student information and update details\n",
    "3 Create instances of the `Student` class and test the implemented functionality\n",
    "\n",
    "\"\"\""
   ]
  },
  {
   "cell_type": "code",
   "execution_count": 29,
   "id": "a2ccea9c-f79e-4aac-879d-7d8fd1424a99",
   "metadata": {},
   "outputs": [
    {
     "name": "stdout",
     "output_type": "stream",
     "text": [
      "Student 1 Information:\n",
      "Name: Alice\n",
      "Age: 20\n",
      "Roll Number: A001\n",
      "\n",
      "Student 2 Information:\n",
      "Name: Bob\n",
      "Age: 22\n",
      "Roll Number: A002\n",
      "Details updated successfully.\n",
      "\n",
      "Updated Student 1 Information:\n",
      "Name: Alice Smith\n",
      "Age: 21\n",
      "Roll Number: A001\n",
      "Details updated successfully.\n",
      "\n",
      "Updated Student 2 Information:\n",
      "Name: Bob\n",
      "Age: 22\n",
      "Roll Number: A003\n"
     ]
    }
   ],
   "source": [
    "#  Define the `Student` class with encapsulated attributes\n",
    "class Student:\n",
    "    def __init__(self, name, age, roll_number):\n",
    "        self.__name = name\n",
    "        self.__age = age\n",
    "        self.__roll_number = roll_number\n",
    "\n",
    "\n",
    "####    Implement getter and setter methods for the attributes|    \n",
    "    # Getter methods\n",
    "    def get_name(self):\n",
    "        return self.__name\n",
    "\n",
    "    def get_age(self):\n",
    "        return self.__age\n",
    "\n",
    "    def get_roll_number(self):\n",
    "        return self.__roll_number\n",
    "\n",
    "    # Setter methods\n",
    "    def set_name(self, name):\n",
    "        self.__name = name\n",
    "\n",
    "    def set_age(self, age):\n",
    "        self.__age = age\n",
    "\n",
    "    def set_roll_number(self, roll_number):\n",
    "        self.__roll_number = roll_number\n",
    "\n",
    "\n",
    "##  Write methods to display student information and update details    \n",
    "    # Method to display student information\n",
    "    def display_info(self):\n",
    "        print(f\"Name: {self.__name}\")\n",
    "        print(f\"Age: {self.__age}\")\n",
    "        print(f\"Roll Number: {self.__roll_number}\")\n",
    "\n",
    "    # Method to update student details\n",
    "    def update_details(self, name=None, age=None, roll_number=None):\n",
    "        if name:\n",
    "            self.set_name(name)\n",
    "        if age:\n",
    "            self.set_age(age)\n",
    "        if roll_number:\n",
    "            self.set_roll_number(roll_number)\n",
    "        print(\"Details updated successfully.\")\n",
    "##    Create instances of the `Student` class and test the implemented functionality\n",
    "\n",
    "\n",
    "# Testing the functionality\n",
    "if __name__ == \"__main__\":\n",
    "    # Creating instances of the Student class\n",
    "    student1 = Student(\"Alice\", 20, \"A001\")\n",
    "    student2 = Student(\"Bob\", 22, \"A002\")\n",
    "\n",
    "    # Displaying initial information\n",
    "    print(\"Student 1 Information:\")\n",
    "    student1.display_info()\n",
    "    print(\"\\nStudent 2 Information:\")\n",
    "    student2.display_info()\n",
    "\n",
    "    # Updating and displaying new information\n",
    "    student1.update_details(name=\"Alice Smith\", age=21)\n",
    "    print(\"\\nUpdated Student 1 Information:\")\n",
    "    student1.display_info()\n",
    "\n",
    "    student2.update_details(roll_number=\"A003\")\n",
    "    print(\"\\nUpdated Student 2 Information:\")\n",
    "    student2.display_info()\n"
   ]
  },
  {
   "cell_type": "code",
   "execution_count": null,
   "id": "2f25363e-e7eb-4817-8d30-0ea18bfc57e4",
   "metadata": {},
   "outputs": [],
   "source": []
  }
 ],
 "metadata": {
  "kernelspec": {
   "display_name": "Python 3 (ipykernel)",
   "language": "python",
   "name": "python3"
  },
  "language_info": {
   "codemirror_mode": {
    "name": "ipython",
    "version": 3
   },
   "file_extension": ".py",
   "mimetype": "text/x-python",
   "name": "python",
   "nbconvert_exporter": "python",
   "pygments_lexer": "ipython3",
   "version": "3.12.4"
  }
 },
 "nbformat": 4,
 "nbformat_minor": 5
}
