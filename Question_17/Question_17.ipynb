{
 "cells": [
  {
   "cell_type": "code",
   "execution_count": 1,
   "id": "85e039d7-314f-40f8-9207-be35c092c8f9",
   "metadata": {},
   "outputs": [
    {
     "data": {
      "text/plain": [
       "'\\n17. Develop a Python script that opens an existing text file named \"inventory.txt\" in read mode and displays\\nthe contents of the file line by line.\\n'"
      ]
     },
     "execution_count": 1,
     "metadata": {},
     "output_type": "execute_result"
    }
   ],
   "source": [
    "\"\"\"\n",
    "17. Develop a Python script that opens an existing text file named \"inventory.txt\" in read mode and displays\n",
    "the contents of the file line by line.\n",
    "\"\"\""
   ]
  },
  {
   "cell_type": "code",
   "execution_count": 3,
   "id": "9d0d9dad-2cc4-4fbf-ae9e-d96737eb2851",
   "metadata": {},
   "outputs": [
    {
     "name": "stdout",
     "output_type": "stream",
     "text": [
      "Hi this is inventory file\n",
      "This file is create to test the above code..\n"
     ]
    }
   ],
   "source": [
    "def read_inventory_file():\n",
    "    try:\n",
    "        # Open the file in read mode\n",
    "        with open(\"inventory.txt\", \"r\") as file:\n",
    "            # Read and display each line from the file\n",
    "            for line in file:\n",
    "                print(line.strip())  # strip() removes any extra newline characters\n",
    "\n",
    "    except FileNotFoundError:\n",
    "        print(\"The file 'inventory.txt' does not exist.\")\n",
    "\n",
    "# Call the function to read and display the file contents\n",
    "read_inventory_file()\n"
   ]
  },
  {
   "cell_type": "code",
   "execution_count": null,
   "id": "955c422b-4f66-43aa-a708-8b01eaca0eb0",
   "metadata": {},
   "outputs": [],
   "source": []
  }
 ],
 "metadata": {
  "kernelspec": {
   "display_name": "Python 3 (ipykernel)",
   "language": "python",
   "name": "python3"
  },
  "language_info": {
   "codemirror_mode": {
    "name": "ipython",
    "version": 3
   },
   "file_extension": ".py",
   "mimetype": "text/x-python",
   "name": "python",
   "nbconvert_exporter": "python",
   "pygments_lexer": "ipython3",
   "version": "3.12.4"
  }
 },
 "nbformat": 4,
 "nbformat_minor": 5
}
