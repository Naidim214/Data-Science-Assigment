{
 "cells": [
  {
   "cell_type": "code",
   "execution_count": 3,
   "id": "36112b3b-dec0-48a2-9896-88c94cc0b2a7",
   "metadata": {},
   "outputs": [
    {
     "data": {
      "text/plain": [
       "\"\\n10.Write a code for Airline Reservation System using OO4S3\\n Create a Flight class that has attributes such as flight number, departure and arrival airports, departure and\\narrival times, and available seats (private)\\n Implement methods to book a seat, cancel a reservation, and get the remaining available seats\\n Use encapsulation to hide the flight's unique identification number\\n Inherit from the Flight class to create a DomesticFlight class and an InternationalFlight class, each with their\\nown specific attributes and methods.\\n\""
      ]
     },
     "execution_count": 3,
     "metadata": {},
     "output_type": "execute_result"
    }
   ],
   "source": [
    "\"\"\"\n",
    "10.Write a code for Airline Reservation System using OO4S3\n",
    " Create a Flight class that has attributes such as flight number, departure and arrival airports, departure and\n",
    "arrival times, and available seats (private)\n",
    " Implement methods to book a seat, cancel a reservation, and get the remaining available seats\n",
    " Use encapsulation to hide the flight's unique identification number\n",
    " Inherit from the Flight class to create a DomesticFlight class and an InternationalFlight class, each with their\n",
    "own specific attributes and methods.\n",
    "\"\"\""
   ]
  },
  {
   "cell_type": "code",
   "execution_count": 22,
   "id": "3f8f7773-66ed-4745-a425-072bdcdf9d38",
   "metadata": {},
   "outputs": [],
   "source": [
    "class Flight:\n",
    "    _id_counter = 1\n",
    "\n",
    "    def __init__(self, flight_number, departure_airport, arrival_airport, departure_time, arrival_time, available_seats):\n",
    "        self.__id = Flight._id_counter\n",
    "        Flight._id_counter += 1\n",
    "        self.flight_number = flight_number\n",
    "        self.departure_airport = departure_airport\n",
    "        self.arrival_airport = arrival_airport\n",
    "        self.departure_time = departure_time\n",
    "        self.arrival_time = arrival_time\n",
    "        self.__available_seats = available_seats\n",
    "\n",
    "    def book_seat(self):\n",
    "        if self.__available_seats > 0:\n",
    "            self.__available_seats -= 1\n",
    "            return True\n",
    "        else:\n",
    "            return False\n",
    "\n",
    "    def cancel_reservation(self):\n",
    "        self.__available_seats += 1\n",
    "\n",
    "    def get_remaining_seats(self):\n",
    "        return self.__available_seats\n",
    "\n",
    "    def get_id(self):\n",
    "        return self.__id\n",
    "\n",
    "    def __str__(self):\n",
    "        return f\"Flight {self.flight_number} from {self.departure_airport} to {self.arrival_airport}, departs at {self.departure_time}, arrives at {self.arrival_time}. Seats available: {self.__available_seats}\"\n",
    "\n",
    "class DomesticFlight(Flight):\n",
    "    def __init__(self, flight_number, departure_airport, arrival_airport, departure_time, arrival_time, available_seats, state):\n",
    "        super().__init__(flight_number, departure_airport, arrival_airport, departure_time, arrival_time, available_seats)\n",
    "        self.state = state\n",
    "\n",
    "    def __str__(self):\n",
    "        return f\"Domestic {super().__str__()} within {self.state}\"\n",
    "\n",
    "class InternationalFlight(Flight):\n",
    "    def __init__(self, flight_number, departure_airport, arrival_airport, departure_time, arrival_time, available_seats, country):\n",
    "        super().__init__(flight_number, departure_airport, arrival_airport, departure_time, arrival_time, available_seats)\n",
    "        self.country = country\n",
    "\n",
    "    def __str__(self):\n",
    "        return f\"International {super().__str__()} to {self.country}\"\n"
   ]
  },
  {
   "cell_type": "code",
   "execution_count": 24,
   "id": "6ab1b7c1-c36e-40b7-9946-fd373cb39106",
   "metadata": {},
   "outputs": [],
   "source": [
    "# Example usage\n",
    "flight1 = Flight(\"AB123\", \"JFK\", \"LAX\", \"10:00 AM\", \"1:00 PM\", 150)"
   ]
  },
  {
   "cell_type": "code",
   "execution_count": 26,
   "id": "87d6f36c-2b8d-4e08-ab6f-0228ff489f0d",
   "metadata": {},
   "outputs": [
    {
     "name": "stdout",
     "output_type": "stream",
     "text": [
      "Flight AB123 from JFK to LAX, departs at 10:00 AM, arrives at 1:00 PM. Seats available: 150\n"
     ]
    }
   ],
   "source": [
    "print(flight1)"
   ]
  },
  {
   "cell_type": "code",
   "execution_count": 30,
   "id": "0578aed5-8448-49b4-aa02-82309ba8f827",
   "metadata": {},
   "outputs": [
    {
     "data": {
      "text/plain": [
       "True"
      ]
     },
     "execution_count": 30,
     "metadata": {},
     "output_type": "execute_result"
    }
   ],
   "source": [
    "flight1.book_seat()"
   ]
  },
  {
   "cell_type": "code",
   "execution_count": 32,
   "id": "862776f2-5964-4cb3-8eec-439b866ea095",
   "metadata": {},
   "outputs": [
    {
     "name": "stdout",
     "output_type": "stream",
     "text": [
      "Flight AB123 from JFK to LAX, departs at 10:00 AM, arrives at 1:00 PM. Seats available: 149\n"
     ]
    }
   ],
   "source": [
    "print(flight1)\n"
   ]
  },
  {
   "cell_type": "code",
   "execution_count": 34,
   "id": "b5a685a7-71c4-41ca-b902-b09fb7756936",
   "metadata": {},
   "outputs": [
    {
     "name": "stdout",
     "output_type": "stream",
     "text": [
      "Remaining seats: 149\n"
     ]
    }
   ],
   "source": [
    "print(\"Remaining seats:\", flight1.get_remaining_seats())\n"
   ]
  },
  {
   "cell_type": "code",
   "execution_count": 36,
   "id": "67389851-6c39-448b-8ee4-1c04d15ed89c",
   "metadata": {},
   "outputs": [
    {
     "name": "stdout",
     "output_type": "stream",
     "text": [
      "Domestic Flight DC456 from ATL to MIA, departs at 9:00 AM, arrives at 11:00 AM. Seats available: 120 within Georgia\n",
      "Domestic Flight DC456 from ATL to MIA, departs at 9:00 AM, arrives at 11:00 AM. Seats available: 119 within Georgia\n",
      "Remaining seats: 119\n"
     ]
    }
   ],
   "source": [
    "domestic_flight = DomesticFlight(\"DC456\", \"ATL\", \"MIA\", \"9:00 AM\", \"11:00 AM\", 120, \"Georgia\")\n",
    "print(domestic_flight)\n",
    "domestic_flight.book_seat()\n",
    "print(domestic_flight)\n",
    "print(\"Remaining seats:\", domestic_flight.get_remaining_seats())"
   ]
  },
  {
   "cell_type": "code",
   "execution_count": 38,
   "id": "5f4709b4-46a1-4c81-9c48-707a90e71bd7",
   "metadata": {},
   "outputs": [
    {
     "name": "stdout",
     "output_type": "stream",
     "text": [
      "International Flight IN789 from SFO to NRT, departs at 8:00 PM, arrives at 10:00 AM. Seats available: 200 to Japan\n",
      "International Flight IN789 from SFO to NRT, departs at 8:00 PM, arrives at 10:00 AM. Seats available: 199 to Japan\n",
      "Remaining seats: 199\n"
     ]
    }
   ],
   "source": [
    "international_flight = InternationalFlight(\"IN789\", \"SFO\", \"NRT\", \"8:00 PM\", \"10:00 AM\", 200, \"Japan\")\n",
    "print(international_flight)\n",
    "international_flight.book_seat()\n",
    "print(international_flight)\n",
    "print(\"Remaining seats:\", international_flight.get_remaining_seats())"
   ]
  },
  {
   "cell_type": "code",
   "execution_count": null,
   "id": "5b48a8a1-7c59-476c-aa6d-ba2be741c5ce",
   "metadata": {},
   "outputs": [],
   "source": []
  }
 ],
 "metadata": {
  "kernelspec": {
   "display_name": "Python 3 (ipykernel)",
   "language": "python",
   "name": "python3"
  },
  "language_info": {
   "codemirror_mode": {
    "name": "ipython",
    "version": 3
   },
   "file_extension": ".py",
   "mimetype": "text/x-python",
   "name": "python",
   "nbconvert_exporter": "python",
   "pygments_lexer": "ipython3",
   "version": "3.12.4"
  }
 },
 "nbformat": 4,
 "nbformat_minor": 5
}
